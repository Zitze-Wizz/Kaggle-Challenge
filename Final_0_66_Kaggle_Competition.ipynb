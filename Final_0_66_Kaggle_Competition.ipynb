{
  "nbformat": 4,
  "nbformat_minor": 0,
  "metadata": {
    "colab": {
      "provenance": [],
      "authorship_tag": "ABX9TyOGwXXYTQto5wQPvJmCYb/W",
      "include_colab_link": true
    },
    "kernelspec": {
      "name": "python3",
      "display_name": "Python 3"
    },
    "language_info": {
      "name": "python"
    }
  },
  "cells": [
    {
      "cell_type": "markdown",
      "metadata": {
        "id": "view-in-github",
        "colab_type": "text"
      },
      "source": [
        "<a href=\"https://colab.research.google.com/github/Zitze-Wizz/Kaggle-Challenge/blob/master/Final_0_66_Kaggle_Competition.ipynb\" target=\"_parent\"><img src=\"https://colab.research.google.com/assets/colab-badge.svg\" alt=\"Open In Colab\"/></a>"
      ]
    },
    {
      "cell_type": "code",
      "source": [
        "import imblearn\n",
        "\n",
        "import numpy as np\n",
        "import pandas as pd\n",
        "\n",
        "import datetime\n",
        "\n",
        "from sklearn.model_selection import train_test_split,  cross_val_score\n",
        "from sklearn.linear_model import LogisticRegression\n",
        "from sklearn.compose import ColumnTransformer\n",
        "from sklearn.pipeline import Pipeline\n",
        "from sklearn.impute import SimpleImputer, KNNImputer\n",
        "from sklearn.preprocessing import StandardScaler, OneHotEncoder\n",
        "from sklearn.metrics import roc_curve, roc_auc_score, confusion_matrix, classification_report, f1_score\n",
        "\n",
        "import matplotlib.pyplot as plt\n",
        "import seaborn as sns\n",
        "\n",
        "from imblearn.over_sampling import SMOTENC # for oversampling the minority class, i.e generating synthetic samples\n",
        "from imblearn.under_sampling import RandomUnderSampler # for undersampling the majority class"
      ],
      "metadata": {
        "id": "jNCUDR8m9EbX"
      },
      "execution_count": null,
      "outputs": []
    },
    {
      "cell_type": "code",
      "source": [
        "gdrive_data_url = \"https://drive.google.com/file/d/1h1WiB50t_oosZgPZ5CTfWzwEVGKf0Jek/view?usp=drive_link\"\n",
        "file_id = gdrive_data_url.split('/')[-2]\n",
        "data_file='https://drive.google.com/uc?export=download&id=' + file_id\n",
        "X = pd.read_csv(data_file, na_values=['?', ''])"
      ],
      "metadata": {
        "id": "UcZujXqM9KY_"
      },
      "execution_count": null,
      "outputs": []
    },
    {
      "cell_type": "code",
      "source": [
        "gdrive_data_url = \"https://drive.google.com/file/d/1h38t8SGpBU2rcaXidnB6dNuSeoN3HI2F/view?usp=sharing\"\n",
        "file_id = gdrive_data_url.split('/')[-2]\n",
        "data_file='https://drive.google.com/uc?export=download&id=' + file_id\n",
        "y = pd.read_csv(data_file, na_values=['?', ''])"
      ],
      "metadata": {
        "id": "AfwXI6RM93hJ"
      },
      "execution_count": null,
      "outputs": []
    },
    {
      "cell_type": "code",
      "source": [
        "gdrive_data_url = \"https://drive.google.com/file/d/1KTgc8k4WtBj6HJDfSISTmLZxuVcjNttN/view?usp=sharing\"\n",
        "file_id = gdrive_data_url.split('/')[-2]\n",
        "data_file='https://drive.google.com/uc?export=download&id=' + file_id\n",
        "X_final = pd.read_csv(data_file, na_values=['?', ''])"
      ],
      "metadata": {
        "id": "LhXa2elz9NQU"
      },
      "execution_count": null,
      "outputs": []
    },
    {
      "cell_type": "code",
      "source": [
        "y.head()"
      ],
      "metadata": {
        "colab": {
          "base_uri": "https://localhost:8080/",
          "height": 244
        },
        "id": "kEacp_1U-R1Q",
        "outputId": "f81db623-19d2-4636-be30-bf95e23fd087"
      },
      "execution_count": null,
      "outputs": [
        {
          "output_type": "execute_result",
          "data": {
            "text/plain": [
              "   Id  Expected\n",
              "0   0         0\n",
              "1   1         0\n",
              "2   2         2\n",
              "3   3         1\n",
              "4   4         2"
            ],
            "text/html": [
              "\n",
              "  <div id=\"df-bb636754-5f65-4c35-91b2-abfc0f94f566\">\n",
              "    <div class=\"colab-df-container\">\n",
              "      <div>\n",
              "<style scoped>\n",
              "    .dataframe tbody tr th:only-of-type {\n",
              "        vertical-align: middle;\n",
              "    }\n",
              "\n",
              "    .dataframe tbody tr th {\n",
              "        vertical-align: top;\n",
              "    }\n",
              "\n",
              "    .dataframe thead th {\n",
              "        text-align: right;\n",
              "    }\n",
              "</style>\n",
              "<table border=\"1\" class=\"dataframe\">\n",
              "  <thead>\n",
              "    <tr style=\"text-align: right;\">\n",
              "      <th></th>\n",
              "      <th>Id</th>\n",
              "      <th>Expected</th>\n",
              "    </tr>\n",
              "  </thead>\n",
              "  <tbody>\n",
              "    <tr>\n",
              "      <th>0</th>\n",
              "      <td>0</td>\n",
              "      <td>0</td>\n",
              "    </tr>\n",
              "    <tr>\n",
              "      <th>1</th>\n",
              "      <td>1</td>\n",
              "      <td>0</td>\n",
              "    </tr>\n",
              "    <tr>\n",
              "      <th>2</th>\n",
              "      <td>2</td>\n",
              "      <td>2</td>\n",
              "    </tr>\n",
              "    <tr>\n",
              "      <th>3</th>\n",
              "      <td>3</td>\n",
              "      <td>1</td>\n",
              "    </tr>\n",
              "    <tr>\n",
              "      <th>4</th>\n",
              "      <td>4</td>\n",
              "      <td>2</td>\n",
              "    </tr>\n",
              "  </tbody>\n",
              "</table>\n",
              "</div>\n",
              "      <button class=\"colab-df-convert\" onclick=\"convertToInteractive('df-bb636754-5f65-4c35-91b2-abfc0f94f566')\"\n",
              "              title=\"Convert this dataframe to an interactive table.\"\n",
              "              style=\"display:none;\">\n",
              "        \n",
              "  <svg xmlns=\"http://www.w3.org/2000/svg\" height=\"24px\"viewBox=\"0 0 24 24\"\n",
              "       width=\"24px\">\n",
              "    <path d=\"M0 0h24v24H0V0z\" fill=\"none\"/>\n",
              "    <path d=\"M18.56 5.44l.94 2.06.94-2.06 2.06-.94-2.06-.94-.94-2.06-.94 2.06-2.06.94zm-11 1L8.5 8.5l.94-2.06 2.06-.94-2.06-.94L8.5 2.5l-.94 2.06-2.06.94zm10 10l.94 2.06.94-2.06 2.06-.94-2.06-.94-.94-2.06-.94 2.06-2.06.94z\"/><path d=\"M17.41 7.96l-1.37-1.37c-.4-.4-.92-.59-1.43-.59-.52 0-1.04.2-1.43.59L10.3 9.45l-7.72 7.72c-.78.78-.78 2.05 0 2.83L4 21.41c.39.39.9.59 1.41.59.51 0 1.02-.2 1.41-.59l7.78-7.78 2.81-2.81c.8-.78.8-2.07 0-2.86zM5.41 20L4 18.59l7.72-7.72 1.47 1.35L5.41 20z\"/>\n",
              "  </svg>\n",
              "      </button>\n",
              "      \n",
              "  <style>\n",
              "    .colab-df-container {\n",
              "      display:flex;\n",
              "      flex-wrap:wrap;\n",
              "      gap: 12px;\n",
              "    }\n",
              "\n",
              "    .colab-df-convert {\n",
              "      background-color: #E8F0FE;\n",
              "      border: none;\n",
              "      border-radius: 50%;\n",
              "      cursor: pointer;\n",
              "      display: none;\n",
              "      fill: #1967D2;\n",
              "      height: 32px;\n",
              "      padding: 0 0 0 0;\n",
              "      width: 32px;\n",
              "    }\n",
              "\n",
              "    .colab-df-convert:hover {\n",
              "      background-color: #E2EBFA;\n",
              "      box-shadow: 0px 1px 2px rgba(60, 64, 67, 0.3), 0px 1px 3px 1px rgba(60, 64, 67, 0.15);\n",
              "      fill: #174EA6;\n",
              "    }\n",
              "\n",
              "    [theme=dark] .colab-df-convert {\n",
              "      background-color: #3B4455;\n",
              "      fill: #D2E3FC;\n",
              "    }\n",
              "\n",
              "    [theme=dark] .colab-df-convert:hover {\n",
              "      background-color: #434B5C;\n",
              "      box-shadow: 0px 1px 3px 1px rgba(0, 0, 0, 0.15);\n",
              "      filter: drop-shadow(0px 1px 2px rgba(0, 0, 0, 0.3));\n",
              "      fill: #FFFFFF;\n",
              "    }\n",
              "  </style>\n",
              "\n",
              "      <script>\n",
              "        const buttonEl =\n",
              "          document.querySelector('#df-bb636754-5f65-4c35-91b2-abfc0f94f566 button.colab-df-convert');\n",
              "        buttonEl.style.display =\n",
              "          google.colab.kernel.accessAllowed ? 'block' : 'none';\n",
              "\n",
              "        async function convertToInteractive(key) {\n",
              "          const element = document.querySelector('#df-bb636754-5f65-4c35-91b2-abfc0f94f566');\n",
              "          const dataTable =\n",
              "            await google.colab.kernel.invokeFunction('convertToInteractive',\n",
              "                                                     [key], {});\n",
              "          if (!dataTable) return;\n",
              "\n",
              "          const docLinkHtml = 'Like what you see? Visit the ' +\n",
              "            '<a target=\"_blank\" href=https://colab.research.google.com/notebooks/data_table.ipynb>data table notebook</a>'\n",
              "            + ' to learn more about interactive tables.';\n",
              "          element.innerHTML = '';\n",
              "          dataTable['output_type'] = 'display_data';\n",
              "          await google.colab.output.renderOutput(dataTable, element);\n",
              "          const docLink = document.createElement('div');\n",
              "          docLink.innerHTML = docLinkHtml;\n",
              "          element.appendChild(docLink);\n",
              "        }\n",
              "      </script>\n",
              "    </div>\n",
              "  </div>\n",
              "  "
            ]
          },
          "metadata": {},
          "execution_count": 80
        }
      ]
    },
    {
      "cell_type": "code",
      "source": [
        "X2 = X[[\"Id\", \"98\",\"11\",\"50\",\"24\",\"61\",\"20\",\"72\",\"62\",\"87\",\"60\",\"86\",\"74\",\"42\",\"37\",\"2\",\"6\",\"63\",\"53\", \"91\"]]  # 0.64\n",
        "# X2 = X[[\"Id\", \"98\",\"11\",\"50\",\"24\",\"61\",\"20\",\"72\",\"62\",\"87\",\"60\",\"86\",\"42\",\"37\",\"6\"]] #,\"34\",\"2\",\"74\"]] # 0.64\n",
        "# X2 = X[[\"Id\", \"98\",\"11\",\"50\",\"24\",\"61\",\"20\",\"72\",\"62\",\"87\",\"60\"]] # ,\"86\",\"42\",\"37\",\"6\",\"34\",\"2\",\"74\"]]\n",
        "#X2 = X[[\"Id\", \"98\",\"11\",\"50\",\"24\",\"61\",\"20\",\"72\",\"62\",\"87\",\"60\",\"86\",\"42\",\"37\",\"6\",\"34\",\"2\",\"74\"]]\n",
        "#X2 = X[[\"Id\", \"98\",\"11\",\"50\",\"24\",\"61\",\"20\",\"72\",\"62\",\"87\",\"60\",\"86\",\"42\",\"37\",\"6\",\"34\",\"2\",\"74\"]]\n",
        "\n",
        "X = X2 #[:1000]\n",
        "y = y #[:1000]\n",
        "X.shape\n"
      ],
      "metadata": {
        "colab": {
          "base_uri": "https://localhost:8080/"
        },
        "id": "ppbnipAI9OKE",
        "outputId": "f05ca63e-5b18-46ec-c9cc-8802dbc7463f"
      },
      "execution_count": null,
      "outputs": [
        {
          "output_type": "execute_result",
          "data": {
            "text/plain": [
              "(10000, 21)"
            ]
          },
          "metadata": {},
          "execution_count": 81
        }
      ]
    },
    {
      "cell_type": "code",
      "source": [
        "y = y.drop (columns = [\"Id\"])"
      ],
      "metadata": {
        "id": "GGkz4ZLhD67S"
      },
      "execution_count": null,
      "outputs": []
    },
    {
      "cell_type": "code",
      "source": [
        "X.head()"
      ],
      "metadata": {
        "colab": {
          "base_uri": "https://localhost:8080/",
          "height": 341
        },
        "id": "MBZ2ULwOCgr7",
        "outputId": "ea4aac91-51fb-4c18-a128-8caa3be3f8d5"
      },
      "execution_count": null,
      "outputs": [
        {
          "output_type": "execute_result",
          "data": {
            "text/plain": [
              "   Id        98        11           50        24        61        20  \\\n",
              "0   0  2.038736  2.280097     0.063419 -4.479576  0.467676 -1.015441   \n",
              "1   1  0.413158 -5.775092    39.349176  0.764284  0.008065 -2.875074   \n",
              "2   2  3.701254 -5.828967     0.112884  0.950084  0.339700  4.494041   \n",
              "3   3  5.892810 -4.796236  1484.131591 -1.805663  1.581812  2.786869   \n",
              "4   4  2.157437 -6.056380     0.212263  0.228554  0.399809 -4.401633   \n",
              "\n",
              "         72         62         87  ...        86        42        37  \\\n",
              "0 -0.472142  16.306059   1.871807  ... -0.315395 -6.725756 -3.434408   \n",
              "1  2.106962   4.646883   7.049593  ... -1.230639 -2.306467  4.490605   \n",
              "2 -7.420275  94.645030   0.136055  ...  6.344787  4.533684 -3.971667   \n",
              "3  2.506215  14.622529  10.358130  ... -2.016885  0.208164 -6.897755   \n",
              "4 -4.651395   8.093200  60.634258  ...  3.523166 -3.933762  6.709862   \n",
              "\n",
              "           6         34          2         74        42        37          2  \n",
              "0  29.897623  23.808472   7.020637   5.125120 -6.725756 -3.434408   7.020637  \n",
              "1 -28.162402   5.738793  22.176950   0.664921 -2.306467  4.490605  22.176950  \n",
              "2 -22.016388  19.629010   1.663984  91.770769  4.533684 -3.971667   1.663984  \n",
              "3  12.132919  25.526839  92.827212   7.526305  0.208164 -6.897755  92.827212  \n",
              "4 -11.135888   5.240953   4.823582   1.461310 -3.933762  6.709862   4.823582  \n",
              "\n",
              "[5 rows x 21 columns]"
            ],
            "text/html": [
              "\n",
              "  <div id=\"df-a6ef5acc-b5a0-485a-8d9a-09238cb8403f\">\n",
              "    <div class=\"colab-df-container\">\n",
              "      <div>\n",
              "<style scoped>\n",
              "    .dataframe tbody tr th:only-of-type {\n",
              "        vertical-align: middle;\n",
              "    }\n",
              "\n",
              "    .dataframe tbody tr th {\n",
              "        vertical-align: top;\n",
              "    }\n",
              "\n",
              "    .dataframe thead th {\n",
              "        text-align: right;\n",
              "    }\n",
              "</style>\n",
              "<table border=\"1\" class=\"dataframe\">\n",
              "  <thead>\n",
              "    <tr style=\"text-align: right;\">\n",
              "      <th></th>\n",
              "      <th>Id</th>\n",
              "      <th>98</th>\n",
              "      <th>11</th>\n",
              "      <th>50</th>\n",
              "      <th>24</th>\n",
              "      <th>61</th>\n",
              "      <th>20</th>\n",
              "      <th>72</th>\n",
              "      <th>62</th>\n",
              "      <th>87</th>\n",
              "      <th>...</th>\n",
              "      <th>86</th>\n",
              "      <th>42</th>\n",
              "      <th>37</th>\n",
              "      <th>6</th>\n",
              "      <th>34</th>\n",
              "      <th>2</th>\n",
              "      <th>74</th>\n",
              "      <th>42</th>\n",
              "      <th>37</th>\n",
              "      <th>2</th>\n",
              "    </tr>\n",
              "  </thead>\n",
              "  <tbody>\n",
              "    <tr>\n",
              "      <th>0</th>\n",
              "      <td>0</td>\n",
              "      <td>2.038736</td>\n",
              "      <td>2.280097</td>\n",
              "      <td>0.063419</td>\n",
              "      <td>-4.479576</td>\n",
              "      <td>0.467676</td>\n",
              "      <td>-1.015441</td>\n",
              "      <td>-0.472142</td>\n",
              "      <td>16.306059</td>\n",
              "      <td>1.871807</td>\n",
              "      <td>...</td>\n",
              "      <td>-0.315395</td>\n",
              "      <td>-6.725756</td>\n",
              "      <td>-3.434408</td>\n",
              "      <td>29.897623</td>\n",
              "      <td>23.808472</td>\n",
              "      <td>7.020637</td>\n",
              "      <td>5.125120</td>\n",
              "      <td>-6.725756</td>\n",
              "      <td>-3.434408</td>\n",
              "      <td>7.020637</td>\n",
              "    </tr>\n",
              "    <tr>\n",
              "      <th>1</th>\n",
              "      <td>1</td>\n",
              "      <td>0.413158</td>\n",
              "      <td>-5.775092</td>\n",
              "      <td>39.349176</td>\n",
              "      <td>0.764284</td>\n",
              "      <td>0.008065</td>\n",
              "      <td>-2.875074</td>\n",
              "      <td>2.106962</td>\n",
              "      <td>4.646883</td>\n",
              "      <td>7.049593</td>\n",
              "      <td>...</td>\n",
              "      <td>-1.230639</td>\n",
              "      <td>-2.306467</td>\n",
              "      <td>4.490605</td>\n",
              "      <td>-28.162402</td>\n",
              "      <td>5.738793</td>\n",
              "      <td>22.176950</td>\n",
              "      <td>0.664921</td>\n",
              "      <td>-2.306467</td>\n",
              "      <td>4.490605</td>\n",
              "      <td>22.176950</td>\n",
              "    </tr>\n",
              "    <tr>\n",
              "      <th>2</th>\n",
              "      <td>2</td>\n",
              "      <td>3.701254</td>\n",
              "      <td>-5.828967</td>\n",
              "      <td>0.112884</td>\n",
              "      <td>0.950084</td>\n",
              "      <td>0.339700</td>\n",
              "      <td>4.494041</td>\n",
              "      <td>-7.420275</td>\n",
              "      <td>94.645030</td>\n",
              "      <td>0.136055</td>\n",
              "      <td>...</td>\n",
              "      <td>6.344787</td>\n",
              "      <td>4.533684</td>\n",
              "      <td>-3.971667</td>\n",
              "      <td>-22.016388</td>\n",
              "      <td>19.629010</td>\n",
              "      <td>1.663984</td>\n",
              "      <td>91.770769</td>\n",
              "      <td>4.533684</td>\n",
              "      <td>-3.971667</td>\n",
              "      <td>1.663984</td>\n",
              "    </tr>\n",
              "    <tr>\n",
              "      <th>3</th>\n",
              "      <td>3</td>\n",
              "      <td>5.892810</td>\n",
              "      <td>-4.796236</td>\n",
              "      <td>1484.131591</td>\n",
              "      <td>-1.805663</td>\n",
              "      <td>1.581812</td>\n",
              "      <td>2.786869</td>\n",
              "      <td>2.506215</td>\n",
              "      <td>14.622529</td>\n",
              "      <td>10.358130</td>\n",
              "      <td>...</td>\n",
              "      <td>-2.016885</td>\n",
              "      <td>0.208164</td>\n",
              "      <td>-6.897755</td>\n",
              "      <td>12.132919</td>\n",
              "      <td>25.526839</td>\n",
              "      <td>92.827212</td>\n",
              "      <td>7.526305</td>\n",
              "      <td>0.208164</td>\n",
              "      <td>-6.897755</td>\n",
              "      <td>92.827212</td>\n",
              "    </tr>\n",
              "    <tr>\n",
              "      <th>4</th>\n",
              "      <td>4</td>\n",
              "      <td>2.157437</td>\n",
              "      <td>-6.056380</td>\n",
              "      <td>0.212263</td>\n",
              "      <td>0.228554</td>\n",
              "      <td>0.399809</td>\n",
              "      <td>-4.401633</td>\n",
              "      <td>-4.651395</td>\n",
              "      <td>8.093200</td>\n",
              "      <td>60.634258</td>\n",
              "      <td>...</td>\n",
              "      <td>3.523166</td>\n",
              "      <td>-3.933762</td>\n",
              "      <td>6.709862</td>\n",
              "      <td>-11.135888</td>\n",
              "      <td>5.240953</td>\n",
              "      <td>4.823582</td>\n",
              "      <td>1.461310</td>\n",
              "      <td>-3.933762</td>\n",
              "      <td>6.709862</td>\n",
              "      <td>4.823582</td>\n",
              "    </tr>\n",
              "  </tbody>\n",
              "</table>\n",
              "<p>5 rows × 21 columns</p>\n",
              "</div>\n",
              "      <button class=\"colab-df-convert\" onclick=\"convertToInteractive('df-a6ef5acc-b5a0-485a-8d9a-09238cb8403f')\"\n",
              "              title=\"Convert this dataframe to an interactive table.\"\n",
              "              style=\"display:none;\">\n",
              "        \n",
              "  <svg xmlns=\"http://www.w3.org/2000/svg\" height=\"24px\"viewBox=\"0 0 24 24\"\n",
              "       width=\"24px\">\n",
              "    <path d=\"M0 0h24v24H0V0z\" fill=\"none\"/>\n",
              "    <path d=\"M18.56 5.44l.94 2.06.94-2.06 2.06-.94-2.06-.94-.94-2.06-.94 2.06-2.06.94zm-11 1L8.5 8.5l.94-2.06 2.06-.94-2.06-.94L8.5 2.5l-.94 2.06-2.06.94zm10 10l.94 2.06.94-2.06 2.06-.94-2.06-.94-.94-2.06-.94 2.06-2.06.94z\"/><path d=\"M17.41 7.96l-1.37-1.37c-.4-.4-.92-.59-1.43-.59-.52 0-1.04.2-1.43.59L10.3 9.45l-7.72 7.72c-.78.78-.78 2.05 0 2.83L4 21.41c.39.39.9.59 1.41.59.51 0 1.02-.2 1.41-.59l7.78-7.78 2.81-2.81c.8-.78.8-2.07 0-2.86zM5.41 20L4 18.59l7.72-7.72 1.47 1.35L5.41 20z\"/>\n",
              "  </svg>\n",
              "      </button>\n",
              "      \n",
              "  <style>\n",
              "    .colab-df-container {\n",
              "      display:flex;\n",
              "      flex-wrap:wrap;\n",
              "      gap: 12px;\n",
              "    }\n",
              "\n",
              "    .colab-df-convert {\n",
              "      background-color: #E8F0FE;\n",
              "      border: none;\n",
              "      border-radius: 50%;\n",
              "      cursor: pointer;\n",
              "      display: none;\n",
              "      fill: #1967D2;\n",
              "      height: 32px;\n",
              "      padding: 0 0 0 0;\n",
              "      width: 32px;\n",
              "    }\n",
              "\n",
              "    .colab-df-convert:hover {\n",
              "      background-color: #E2EBFA;\n",
              "      box-shadow: 0px 1px 2px rgba(60, 64, 67, 0.3), 0px 1px 3px 1px rgba(60, 64, 67, 0.15);\n",
              "      fill: #174EA6;\n",
              "    }\n",
              "\n",
              "    [theme=dark] .colab-df-convert {\n",
              "      background-color: #3B4455;\n",
              "      fill: #D2E3FC;\n",
              "    }\n",
              "\n",
              "    [theme=dark] .colab-df-convert:hover {\n",
              "      background-color: #434B5C;\n",
              "      box-shadow: 0px 1px 3px 1px rgba(0, 0, 0, 0.15);\n",
              "      filter: drop-shadow(0px 1px 2px rgba(0, 0, 0, 0.3));\n",
              "      fill: #FFFFFF;\n",
              "    }\n",
              "  </style>\n",
              "\n",
              "      <script>\n",
              "        const buttonEl =\n",
              "          document.querySelector('#df-a6ef5acc-b5a0-485a-8d9a-09238cb8403f button.colab-df-convert');\n",
              "        buttonEl.style.display =\n",
              "          google.colab.kernel.accessAllowed ? 'block' : 'none';\n",
              "\n",
              "        async function convertToInteractive(key) {\n",
              "          const element = document.querySelector('#df-a6ef5acc-b5a0-485a-8d9a-09238cb8403f');\n",
              "          const dataTable =\n",
              "            await google.colab.kernel.invokeFunction('convertToInteractive',\n",
              "                                                     [key], {});\n",
              "          if (!dataTable) return;\n",
              "\n",
              "          const docLinkHtml = 'Like what you see? Visit the ' +\n",
              "            '<a target=\"_blank\" href=https://colab.research.google.com/notebooks/data_table.ipynb>data table notebook</a>'\n",
              "            + ' to learn more about interactive tables.';\n",
              "          element.innerHTML = '';\n",
              "          dataTable['output_type'] = 'display_data';\n",
              "          await google.colab.output.renderOutput(dataTable, element);\n",
              "          const docLink = document.createElement('div');\n",
              "          docLink.innerHTML = docLinkHtml;\n",
              "          element.appendChild(docLink);\n",
              "        }\n",
              "      </script>\n",
              "    </div>\n",
              "  </div>\n",
              "  "
            ]
          },
          "metadata": {},
          "execution_count": 83
        }
      ]
    },
    {
      "cell_type": "code",
      "source": [
        "X.info()"
      ],
      "metadata": {
        "colab": {
          "base_uri": "https://localhost:8080/"
        },
        "id": "MnHwbOcv9Zqp",
        "outputId": "ec7fb7fa-79fc-454e-b379-8484b65c989c"
      },
      "execution_count": null,
      "outputs": [
        {
          "output_type": "stream",
          "name": "stdout",
          "text": [
            "<class 'pandas.core.frame.DataFrame'>\n",
            "RangeIndex: 10000 entries, 0 to 9999\n",
            "Data columns (total 21 columns):\n",
            " #   Column  Non-Null Count  Dtype  \n",
            "---  ------  --------------  -----  \n",
            " 0   Id      10000 non-null  int64  \n",
            " 1   98      10000 non-null  float64\n",
            " 2   11      10000 non-null  float64\n",
            " 3   50      10000 non-null  float64\n",
            " 4   24      10000 non-null  float64\n",
            " 5   61      10000 non-null  float64\n",
            " 6   20      10000 non-null  float64\n",
            " 7   72      10000 non-null  float64\n",
            " 8   62      10000 non-null  float64\n",
            " 9   87      10000 non-null  float64\n",
            " 10  60      10000 non-null  float64\n",
            " 11  86      10000 non-null  float64\n",
            " 12  42      10000 non-null  float64\n",
            " 13  37      10000 non-null  float64\n",
            " 14  6       10000 non-null  float64\n",
            " 15  34      10000 non-null  float64\n",
            " 16  2       10000 non-null  float64\n",
            " 17  74      10000 non-null  float64\n",
            " 18  42      10000 non-null  float64\n",
            " 19  37      10000 non-null  float64\n",
            " 20  2       10000 non-null  float64\n",
            "dtypes: float64(20), int64(1)\n",
            "memory usage: 1.6 MB\n"
          ]
        }
      ]
    },
    {
      "cell_type": "code",
      "source": [
        "X.columns"
      ],
      "metadata": {
        "colab": {
          "base_uri": "https://localhost:8080/"
        },
        "id": "XF43F7Ww9fdN",
        "outputId": "8c1052fa-0c86-42a3-ffc3-206f2dd0fd75"
      },
      "execution_count": null,
      "outputs": [
        {
          "output_type": "execute_result",
          "data": {
            "text/plain": [
              "Index(['Id', '98', '11', '50', '24', '61', '20', '72', '62', '87', '60', '86',\n",
              "       '42', '37', '6', '34', '2', '74', '42', '37', '2'],\n",
              "      dtype='object')"
            ]
          },
          "metadata": {},
          "execution_count": 85
        }
      ]
    },
    {
      "cell_type": "code",
      "source": [
        "'''nulls = pd.DataFrame(df.isna().sum(), columns = [\"value\"])\n",
        "nulls[nulls[\"value\"] != 0]'''"
      ],
      "metadata": {
        "colab": {
          "base_uri": "https://localhost:8080/",
          "height": 38
        },
        "id": "KcgN25fz9gM-",
        "outputId": "50a19c2c-f868-4f1f-9d24-a0c1f8ec4be7"
      },
      "execution_count": null,
      "outputs": [
        {
          "output_type": "execute_result",
          "data": {
            "text/plain": [
              "'nulls = pd.DataFrame(df.isna().sum(), columns = [\"value\"])\\nnulls[nulls[\"value\"] != 0]'"
            ],
            "application/vnd.google.colaboratory.intrinsic+json": {
              "type": "string"
            }
          },
          "metadata": {},
          "execution_count": 86
        }
      ]
    },
    {
      "cell_type": "code",
      "source": [
        "X.describe()"
      ],
      "metadata": {
        "colab": {
          "base_uri": "https://localhost:8080/",
          "height": 454
        },
        "id": "CsdNtbyY9gP4",
        "outputId": "d48e89e8-a49f-466f-b364-c76a9f34c4a4"
      },
      "execution_count": null,
      "outputs": [
        {
          "output_type": "execute_result",
          "data": {
            "text/plain": [
              "                Id            98            11            50            24  \\\n",
              "count  10000.00000  10000.000000  10000.000000  10000.000000  10000.000000   \n",
              "mean    4999.50000      0.031468      0.018512    194.853540      0.218314   \n",
              "std     2886.89568      3.231366      3.680990    413.031326      3.128920   \n",
              "min        0.00000    -16.112369    -14.056768      0.000054    -12.793088   \n",
              "25%     2499.75000     -2.116268     -2.405063      1.593135     -1.890231   \n",
              "50%     4999.50000      0.035511      0.023908     12.896343      0.166319   \n",
              "75%     7499.25000      2.156595      2.461454    107.897505      2.306593   \n",
              "max     9999.00000     12.174668     13.241661   1484.131591     11.455826   \n",
              "\n",
              "                 61            20            72            62            87  \\\n",
              "count  1.000000e+04  10000.000000  10000.000000  1.000000e+04  1.000000e+04   \n",
              "mean   1.628473e+01      0.044056     -0.019336  1.322092e+01  9.615469e+00   \n",
              "std    3.854573e+01      3.528149      3.746007  1.976919e+01  1.460689e+01   \n",
              "min    5.325880e-07    -13.921941    -14.739145  4.791200e-07  6.991405e-07   \n",
              "25%    9.212007e-02     -2.256933     -2.523641  1.239233e+00  9.117398e-01   \n",
              "50%    7.561957e-01      0.028249     -0.074143  5.712324e+00  4.075308e+00   \n",
              "75%    6.717083e+00      2.382634      2.457654  1.675450e+01  1.226529e+01   \n",
              "max    1.484132e+02     14.008867     15.720605  2.766526e+02  1.908295e+02   \n",
              "\n",
              "       ...            86            42            37             6  \\\n",
              "count  ...  10000.000000  10000.000000  10000.000000  10000.000000   \n",
              "mean   ...     -0.027733     -0.010332     -0.052100      0.520059   \n",
              "std    ...      3.405446      3.344346      3.183651     31.791384   \n",
              "min    ...    -14.481581    -12.981847    -11.866657   -129.141171   \n",
              "25%    ...     -2.352000     -2.301496     -2.199275    -21.037225   \n",
              "50%    ...     -0.033018      0.013327     -0.076071      0.351341   \n",
              "75%    ...      2.238050      2.265405      2.105626     21.714889   \n",
              "max    ...     14.183615     12.992755     12.916188    118.399310   \n",
              "\n",
              "                 34             2            74            42            37  \\\n",
              "count  1.000000e+04  1.000000e+04  10000.000000  10000.000000  10000.000000   \n",
              "mean   9.588271e+00  1.323895e+01    144.332411     -0.010332     -0.052100   \n",
              "std    1.366015e+01  1.870323e+01    360.580276      3.344346      3.183651   \n",
              "min    8.202144e-09  7.274511e-07      0.000011    -12.981847    -11.866657   \n",
              "25%    9.776764e-01  1.318718e+00      0.658136     -2.301496     -2.199275   \n",
              "50%    4.326855e+00  6.109321e+00      6.049327      0.013327     -0.076071   \n",
              "75%    1.246799e+01  1.758705e+01     57.847220      2.265405      2.105626   \n",
              "max    1.820583e+02  2.681004e+02   1484.131591     12.992755     12.916188   \n",
              "\n",
              "                  2  \n",
              "count  1.000000e+04  \n",
              "mean   1.323895e+01  \n",
              "std    1.870323e+01  \n",
              "min    7.274511e-07  \n",
              "25%    1.318718e+00  \n",
              "50%    6.109321e+00  \n",
              "75%    1.758705e+01  \n",
              "max    2.681004e+02  \n",
              "\n",
              "[8 rows x 21 columns]"
            ],
            "text/html": [
              "\n",
              "  <div id=\"df-60a57aed-8afd-49bc-9c80-87496d736759\">\n",
              "    <div class=\"colab-df-container\">\n",
              "      <div>\n",
              "<style scoped>\n",
              "    .dataframe tbody tr th:only-of-type {\n",
              "        vertical-align: middle;\n",
              "    }\n",
              "\n",
              "    .dataframe tbody tr th {\n",
              "        vertical-align: top;\n",
              "    }\n",
              "\n",
              "    .dataframe thead th {\n",
              "        text-align: right;\n",
              "    }\n",
              "</style>\n",
              "<table border=\"1\" class=\"dataframe\">\n",
              "  <thead>\n",
              "    <tr style=\"text-align: right;\">\n",
              "      <th></th>\n",
              "      <th>Id</th>\n",
              "      <th>98</th>\n",
              "      <th>11</th>\n",
              "      <th>50</th>\n",
              "      <th>24</th>\n",
              "      <th>61</th>\n",
              "      <th>20</th>\n",
              "      <th>72</th>\n",
              "      <th>62</th>\n",
              "      <th>87</th>\n",
              "      <th>...</th>\n",
              "      <th>86</th>\n",
              "      <th>42</th>\n",
              "      <th>37</th>\n",
              "      <th>6</th>\n",
              "      <th>34</th>\n",
              "      <th>2</th>\n",
              "      <th>74</th>\n",
              "      <th>42</th>\n",
              "      <th>37</th>\n",
              "      <th>2</th>\n",
              "    </tr>\n",
              "  </thead>\n",
              "  <tbody>\n",
              "    <tr>\n",
              "      <th>count</th>\n",
              "      <td>10000.00000</td>\n",
              "      <td>10000.000000</td>\n",
              "      <td>10000.000000</td>\n",
              "      <td>10000.000000</td>\n",
              "      <td>10000.000000</td>\n",
              "      <td>1.000000e+04</td>\n",
              "      <td>10000.000000</td>\n",
              "      <td>10000.000000</td>\n",
              "      <td>1.000000e+04</td>\n",
              "      <td>1.000000e+04</td>\n",
              "      <td>...</td>\n",
              "      <td>10000.000000</td>\n",
              "      <td>10000.000000</td>\n",
              "      <td>10000.000000</td>\n",
              "      <td>10000.000000</td>\n",
              "      <td>1.000000e+04</td>\n",
              "      <td>1.000000e+04</td>\n",
              "      <td>10000.000000</td>\n",
              "      <td>10000.000000</td>\n",
              "      <td>10000.000000</td>\n",
              "      <td>1.000000e+04</td>\n",
              "    </tr>\n",
              "    <tr>\n",
              "      <th>mean</th>\n",
              "      <td>4999.50000</td>\n",
              "      <td>0.031468</td>\n",
              "      <td>0.018512</td>\n",
              "      <td>194.853540</td>\n",
              "      <td>0.218314</td>\n",
              "      <td>1.628473e+01</td>\n",
              "      <td>0.044056</td>\n",
              "      <td>-0.019336</td>\n",
              "      <td>1.322092e+01</td>\n",
              "      <td>9.615469e+00</td>\n",
              "      <td>...</td>\n",
              "      <td>-0.027733</td>\n",
              "      <td>-0.010332</td>\n",
              "      <td>-0.052100</td>\n",
              "      <td>0.520059</td>\n",
              "      <td>9.588271e+00</td>\n",
              "      <td>1.323895e+01</td>\n",
              "      <td>144.332411</td>\n",
              "      <td>-0.010332</td>\n",
              "      <td>-0.052100</td>\n",
              "      <td>1.323895e+01</td>\n",
              "    </tr>\n",
              "    <tr>\n",
              "      <th>std</th>\n",
              "      <td>2886.89568</td>\n",
              "      <td>3.231366</td>\n",
              "      <td>3.680990</td>\n",
              "      <td>413.031326</td>\n",
              "      <td>3.128920</td>\n",
              "      <td>3.854573e+01</td>\n",
              "      <td>3.528149</td>\n",
              "      <td>3.746007</td>\n",
              "      <td>1.976919e+01</td>\n",
              "      <td>1.460689e+01</td>\n",
              "      <td>...</td>\n",
              "      <td>3.405446</td>\n",
              "      <td>3.344346</td>\n",
              "      <td>3.183651</td>\n",
              "      <td>31.791384</td>\n",
              "      <td>1.366015e+01</td>\n",
              "      <td>1.870323e+01</td>\n",
              "      <td>360.580276</td>\n",
              "      <td>3.344346</td>\n",
              "      <td>3.183651</td>\n",
              "      <td>1.870323e+01</td>\n",
              "    </tr>\n",
              "    <tr>\n",
              "      <th>min</th>\n",
              "      <td>0.00000</td>\n",
              "      <td>-16.112369</td>\n",
              "      <td>-14.056768</td>\n",
              "      <td>0.000054</td>\n",
              "      <td>-12.793088</td>\n",
              "      <td>5.325880e-07</td>\n",
              "      <td>-13.921941</td>\n",
              "      <td>-14.739145</td>\n",
              "      <td>4.791200e-07</td>\n",
              "      <td>6.991405e-07</td>\n",
              "      <td>...</td>\n",
              "      <td>-14.481581</td>\n",
              "      <td>-12.981847</td>\n",
              "      <td>-11.866657</td>\n",
              "      <td>-129.141171</td>\n",
              "      <td>8.202144e-09</td>\n",
              "      <td>7.274511e-07</td>\n",
              "      <td>0.000011</td>\n",
              "      <td>-12.981847</td>\n",
              "      <td>-11.866657</td>\n",
              "      <td>7.274511e-07</td>\n",
              "    </tr>\n",
              "    <tr>\n",
              "      <th>25%</th>\n",
              "      <td>2499.75000</td>\n",
              "      <td>-2.116268</td>\n",
              "      <td>-2.405063</td>\n",
              "      <td>1.593135</td>\n",
              "      <td>-1.890231</td>\n",
              "      <td>9.212007e-02</td>\n",
              "      <td>-2.256933</td>\n",
              "      <td>-2.523641</td>\n",
              "      <td>1.239233e+00</td>\n",
              "      <td>9.117398e-01</td>\n",
              "      <td>...</td>\n",
              "      <td>-2.352000</td>\n",
              "      <td>-2.301496</td>\n",
              "      <td>-2.199275</td>\n",
              "      <td>-21.037225</td>\n",
              "      <td>9.776764e-01</td>\n",
              "      <td>1.318718e+00</td>\n",
              "      <td>0.658136</td>\n",
              "      <td>-2.301496</td>\n",
              "      <td>-2.199275</td>\n",
              "      <td>1.318718e+00</td>\n",
              "    </tr>\n",
              "    <tr>\n",
              "      <th>50%</th>\n",
              "      <td>4999.50000</td>\n",
              "      <td>0.035511</td>\n",
              "      <td>0.023908</td>\n",
              "      <td>12.896343</td>\n",
              "      <td>0.166319</td>\n",
              "      <td>7.561957e-01</td>\n",
              "      <td>0.028249</td>\n",
              "      <td>-0.074143</td>\n",
              "      <td>5.712324e+00</td>\n",
              "      <td>4.075308e+00</td>\n",
              "      <td>...</td>\n",
              "      <td>-0.033018</td>\n",
              "      <td>0.013327</td>\n",
              "      <td>-0.076071</td>\n",
              "      <td>0.351341</td>\n",
              "      <td>4.326855e+00</td>\n",
              "      <td>6.109321e+00</td>\n",
              "      <td>6.049327</td>\n",
              "      <td>0.013327</td>\n",
              "      <td>-0.076071</td>\n",
              "      <td>6.109321e+00</td>\n",
              "    </tr>\n",
              "    <tr>\n",
              "      <th>75%</th>\n",
              "      <td>7499.25000</td>\n",
              "      <td>2.156595</td>\n",
              "      <td>2.461454</td>\n",
              "      <td>107.897505</td>\n",
              "      <td>2.306593</td>\n",
              "      <td>6.717083e+00</td>\n",
              "      <td>2.382634</td>\n",
              "      <td>2.457654</td>\n",
              "      <td>1.675450e+01</td>\n",
              "      <td>1.226529e+01</td>\n",
              "      <td>...</td>\n",
              "      <td>2.238050</td>\n",
              "      <td>2.265405</td>\n",
              "      <td>2.105626</td>\n",
              "      <td>21.714889</td>\n",
              "      <td>1.246799e+01</td>\n",
              "      <td>1.758705e+01</td>\n",
              "      <td>57.847220</td>\n",
              "      <td>2.265405</td>\n",
              "      <td>2.105626</td>\n",
              "      <td>1.758705e+01</td>\n",
              "    </tr>\n",
              "    <tr>\n",
              "      <th>max</th>\n",
              "      <td>9999.00000</td>\n",
              "      <td>12.174668</td>\n",
              "      <td>13.241661</td>\n",
              "      <td>1484.131591</td>\n",
              "      <td>11.455826</td>\n",
              "      <td>1.484132e+02</td>\n",
              "      <td>14.008867</td>\n",
              "      <td>15.720605</td>\n",
              "      <td>2.766526e+02</td>\n",
              "      <td>1.908295e+02</td>\n",
              "      <td>...</td>\n",
              "      <td>14.183615</td>\n",
              "      <td>12.992755</td>\n",
              "      <td>12.916188</td>\n",
              "      <td>118.399310</td>\n",
              "      <td>1.820583e+02</td>\n",
              "      <td>2.681004e+02</td>\n",
              "      <td>1484.131591</td>\n",
              "      <td>12.992755</td>\n",
              "      <td>12.916188</td>\n",
              "      <td>2.681004e+02</td>\n",
              "    </tr>\n",
              "  </tbody>\n",
              "</table>\n",
              "<p>8 rows × 21 columns</p>\n",
              "</div>\n",
              "      <button class=\"colab-df-convert\" onclick=\"convertToInteractive('df-60a57aed-8afd-49bc-9c80-87496d736759')\"\n",
              "              title=\"Convert this dataframe to an interactive table.\"\n",
              "              style=\"display:none;\">\n",
              "        \n",
              "  <svg xmlns=\"http://www.w3.org/2000/svg\" height=\"24px\"viewBox=\"0 0 24 24\"\n",
              "       width=\"24px\">\n",
              "    <path d=\"M0 0h24v24H0V0z\" fill=\"none\"/>\n",
              "    <path d=\"M18.56 5.44l.94 2.06.94-2.06 2.06-.94-2.06-.94-.94-2.06-.94 2.06-2.06.94zm-11 1L8.5 8.5l.94-2.06 2.06-.94-2.06-.94L8.5 2.5l-.94 2.06-2.06.94zm10 10l.94 2.06.94-2.06 2.06-.94-2.06-.94-.94-2.06-.94 2.06-2.06.94z\"/><path d=\"M17.41 7.96l-1.37-1.37c-.4-.4-.92-.59-1.43-.59-.52 0-1.04.2-1.43.59L10.3 9.45l-7.72 7.72c-.78.78-.78 2.05 0 2.83L4 21.41c.39.39.9.59 1.41.59.51 0 1.02-.2 1.41-.59l7.78-7.78 2.81-2.81c.8-.78.8-2.07 0-2.86zM5.41 20L4 18.59l7.72-7.72 1.47 1.35L5.41 20z\"/>\n",
              "  </svg>\n",
              "      </button>\n",
              "      \n",
              "  <style>\n",
              "    .colab-df-container {\n",
              "      display:flex;\n",
              "      flex-wrap:wrap;\n",
              "      gap: 12px;\n",
              "    }\n",
              "\n",
              "    .colab-df-convert {\n",
              "      background-color: #E8F0FE;\n",
              "      border: none;\n",
              "      border-radius: 50%;\n",
              "      cursor: pointer;\n",
              "      display: none;\n",
              "      fill: #1967D2;\n",
              "      height: 32px;\n",
              "      padding: 0 0 0 0;\n",
              "      width: 32px;\n",
              "    }\n",
              "\n",
              "    .colab-df-convert:hover {\n",
              "      background-color: #E2EBFA;\n",
              "      box-shadow: 0px 1px 2px rgba(60, 64, 67, 0.3), 0px 1px 3px 1px rgba(60, 64, 67, 0.15);\n",
              "      fill: #174EA6;\n",
              "    }\n",
              "\n",
              "    [theme=dark] .colab-df-convert {\n",
              "      background-color: #3B4455;\n",
              "      fill: #D2E3FC;\n",
              "    }\n",
              "\n",
              "    [theme=dark] .colab-df-convert:hover {\n",
              "      background-color: #434B5C;\n",
              "      box-shadow: 0px 1px 3px 1px rgba(0, 0, 0, 0.15);\n",
              "      filter: drop-shadow(0px 1px 2px rgba(0, 0, 0, 0.3));\n",
              "      fill: #FFFFFF;\n",
              "    }\n",
              "  </style>\n",
              "\n",
              "      <script>\n",
              "        const buttonEl =\n",
              "          document.querySelector('#df-60a57aed-8afd-49bc-9c80-87496d736759 button.colab-df-convert');\n",
              "        buttonEl.style.display =\n",
              "          google.colab.kernel.accessAllowed ? 'block' : 'none';\n",
              "\n",
              "        async function convertToInteractive(key) {\n",
              "          const element = document.querySelector('#df-60a57aed-8afd-49bc-9c80-87496d736759');\n",
              "          const dataTable =\n",
              "            await google.colab.kernel.invokeFunction('convertToInteractive',\n",
              "                                                     [key], {});\n",
              "          if (!dataTable) return;\n",
              "\n",
              "          const docLinkHtml = 'Like what you see? Visit the ' +\n",
              "            '<a target=\"_blank\" href=https://colab.research.google.com/notebooks/data_table.ipynb>data table notebook</a>'\n",
              "            + ' to learn more about interactive tables.';\n",
              "          element.innerHTML = '';\n",
              "          dataTable['output_type'] = 'display_data';\n",
              "          await google.colab.output.renderOutput(dataTable, element);\n",
              "          const docLink = document.createElement('div');\n",
              "          docLink.innerHTML = docLinkHtml;\n",
              "          element.appendChild(docLink);\n",
              "        }\n",
              "      </script>\n",
              "    </div>\n",
              "  </div>\n",
              "  "
            ]
          },
          "metadata": {},
          "execution_count": 87
        }
      ]
    },
    {
      "cell_type": "code",
      "source": [
        "'''X.hist (figsize = (15, 10)) # histogram for all numeric features'''"
      ],
      "metadata": {
        "colab": {
          "base_uri": "https://localhost:8080/",
          "height": 38
        },
        "id": "Kux0JV7E9gSq",
        "outputId": "f1e8e433-9407-43a8-fe71-86c72ac9b7b7"
      },
      "execution_count": null,
      "outputs": [
        {
          "output_type": "execute_result",
          "data": {
            "text/plain": [
              "'X.hist (figsize = (15, 10)) # histogram for all numeric features'"
            ],
            "application/vnd.google.colaboratory.intrinsic+json": {
              "type": "string"
            }
          },
          "metadata": {},
          "execution_count": 88
        }
      ]
    },
    {
      "cell_type": "code",
      "source": [
        "X.nunique()"
      ],
      "metadata": {
        "colab": {
          "base_uri": "https://localhost:8080/"
        },
        "id": "AhIgHtCO9gZD",
        "outputId": "3420eb4e-8ea8-4f2e-ac93-d66281b00ded"
      },
      "execution_count": null,
      "outputs": [
        {
          "output_type": "execute_result",
          "data": {
            "text/plain": [
              "Id    10000\n",
              "98    10000\n",
              "11    10000\n",
              "50     9319\n",
              "24    10000\n",
              "61     9404\n",
              "20    10000\n",
              "72    10000\n",
              "62    10000\n",
              "87    10000\n",
              "60     9161\n",
              "86    10000\n",
              "42    10000\n",
              "37    10000\n",
              "6     10000\n",
              "34    10000\n",
              "2     10000\n",
              "74     9515\n",
              "42    10000\n",
              "37    10000\n",
              "2     10000\n",
              "dtype: int64"
            ]
          },
          "metadata": {},
          "execution_count": 89
        }
      ]
    },
    {
      "cell_type": "code",
      "source": [
        "'''high_corr = df.corr()[str(i)][df.corr()[str(i)] > 0.4]\n",
        "    print(i, high_corr)'''"
      ],
      "metadata": {
        "colab": {
          "base_uri": "https://localhost:8080/",
          "height": 38
        },
        "id": "upwVr6U7AWZo",
        "outputId": "e39757a1-3f40-4685-98a5-d4dd774950ed"
      },
      "execution_count": null,
      "outputs": [
        {
          "output_type": "execute_result",
          "data": {
            "text/plain": [
              "'high_corr = df.corr()[str(i)][df.corr()[str(i)] > 0.4]\\n    print(i, high_corr)'"
            ],
            "application/vnd.google.colaboratory.intrinsic+json": {
              "type": "string"
            }
          },
          "metadata": {},
          "execution_count": 90
        }
      ]
    },
    {
      "cell_type": "code",
      "source": [
        "'''import seaborn as sns\n",
        "\n",
        "r = X_train.corr()\n",
        "r[abs(r) <= 0.5] = 0\n",
        "plt.figure(figsize=(30, 30))\n",
        "sns.heatmap(r, annot=True, cmap='coolwarm');'''"
      ],
      "metadata": {
        "colab": {
          "base_uri": "https://localhost:8080/",
          "height": 38
        },
        "id": "_lMXSYbp_1hs",
        "outputId": "87d2be59-d98c-4b5b-90d1-99428bf9338d"
      },
      "execution_count": null,
      "outputs": [
        {
          "output_type": "execute_result",
          "data": {
            "text/plain": [
              "\"import seaborn as sns\\n\\nr = X_train.corr()\\nr[abs(r) <= 0.5] = 0\\nplt.figure(figsize=(30, 30))\\nsns.heatmap(r, annot=True, cmap='coolwarm');\""
            ],
            "application/vnd.google.colaboratory.intrinsic+json": {
              "type": "string"
            }
          },
          "metadata": {},
          "execution_count": 91
        }
      ]
    },
    {
      "cell_type": "markdown",
      "source": [
        "## Split into Train and Test Data"
      ],
      "metadata": {
        "id": "bHtrGycpCJCh"
      }
    },
    {
      "cell_type": "code",
      "source": [
        "y.value_counts()"
      ],
      "metadata": {
        "colab": {
          "base_uri": "https://localhost:8080/"
        },
        "id": "Er9vAG_sDR1s",
        "outputId": "8dc9dc0f-124e-4536-b7b5-5e39faf9bb9a"
      },
      "execution_count": null,
      "outputs": [
        {
          "output_type": "execute_result",
          "data": {
            "text/plain": [
              "Expected\n",
              "2           3365\n",
              "0           3341\n",
              "1           3294\n",
              "dtype: int64"
            ]
          },
          "metadata": {},
          "execution_count": 92
        }
      ]
    },
    {
      "cell_type": "code",
      "source": [
        "from sklearn.model_selection import train_test_split\n",
        "from sklearn.linear_model import LinearRegression\n",
        "\n",
        "X_train, X_test, y_train, y_test = train_test_split(X, y, test_size=0.3, random_state=42, stratify=y)           #Stratify: Enough y in each set train & test\n",
        "X_train.shape, X_test.shape"
      ],
      "metadata": {
        "colab": {
          "base_uri": "https://localhost:8080/"
        },
        "id": "OfTnMF4eCIDE",
        "outputId": "9a459ea6-1c1d-43a8-f2af-22afa157336e"
      },
      "execution_count": null,
      "outputs": [
        {
          "output_type": "execute_result",
          "data": {
            "text/plain": [
              "((7000, 21), (3000, 21))"
            ]
          },
          "metadata": {},
          "execution_count": 93
        }
      ]
    },
    {
      "cell_type": "code",
      "source": [
        "'''from xgboost import XGBClassifier\n",
        "from sklearn.preprocessing import LabelEncoder\n",
        "\n",
        "\n",
        "xgb = XGBClassifier(random_state=42)\n",
        "\n",
        "pipeline_xgb = Pipeline([(\"model\", xgb)])\n",
        "\n",
        "le = LabelEncoder()\n",
        "# transform y labels into 0 and 1 as latest xgboost version doesn't support string labels\n",
        "y_train_le = le.fit_transform(y_train)\n",
        "y_test_le = le.fit_transform(y_test)'''"
      ],
      "metadata": {
        "colab": {
          "base_uri": "https://localhost:8080/",
          "height": 59
        },
        "id": "A0SxkiYLEQZ5",
        "outputId": "8d151969-277e-49e6-86bf-1ed583c684ca"
      },
      "execution_count": null,
      "outputs": [
        {
          "output_type": "execute_result",
          "data": {
            "text/plain": [
              "'from xgboost import XGBClassifier\\nfrom sklearn.preprocessing import LabelEncoder\\n\\n\\nxgb = XGBClassifier(random_state=42)\\n\\npipeline_xgb = Pipeline([(\"model\", xgb)])\\n\\nle = LabelEncoder()\\n# transform y labels into 0 and 1 as latest xgboost version doesn\\'t support string labels\\ny_train_le = le.fit_transform(y_train)\\ny_test_le = le.fit_transform(y_test)'"
            ],
            "application/vnd.google.colaboratory.intrinsic+json": {
              "type": "string"
            }
          },
          "metadata": {},
          "execution_count": 94
        }
      ]
    },
    {
      "cell_type": "code",
      "source": [
        "y_train.shape"
      ],
      "metadata": {
        "colab": {
          "base_uri": "https://localhost:8080/"
        },
        "id": "1tguzS9tHcZ2",
        "outputId": "11f14432-24e4-4937-d2aa-9ac5cfdc4129"
      },
      "execution_count": null,
      "outputs": [
        {
          "output_type": "execute_result",
          "data": {
            "text/plain": [
              "(7000, 1)"
            ]
          },
          "metadata": {},
          "execution_count": 95
        }
      ]
    },
    {
      "cell_type": "code",
      "source": [
        "# Fit\n",
        "\n",
        "from sklearn.ensemble import RandomForestClassifier\n",
        "\n",
        "model = RandomForestClassifier(random_state=42).fit(X_train, y_train)\n",
        "y_pred = model.predict(X_test)"
      ],
      "metadata": {
        "colab": {
          "base_uri": "https://localhost:8080/"
        },
        "id": "IuGHJQZ_FMJI",
        "outputId": "c10e4a64-f3cc-4aae-8f2e-f819cee58548"
      },
      "execution_count": null,
      "outputs": [
        {
          "output_type": "stream",
          "name": "stderr",
          "text": [
            "<ipython-input-96-32dab62745b4>:5: DataConversionWarning: A column-vector y was passed when a 1d array was expected. Please change the shape of y to (n_samples,), for example using ravel().\n",
            "  model = RandomForestClassifier(random_state=42).fit(X_train, y_train)\n"
          ]
        }
      ]
    },
    {
      "cell_type": "code",
      "source": [
        "model.get_params()"
      ],
      "metadata": {
        "colab": {
          "base_uri": "https://localhost:8080/"
        },
        "id": "npdO4NSjl7f1",
        "outputId": "8b835880-372a-45be-e59e-3c4a522bfb57"
      },
      "execution_count": null,
      "outputs": [
        {
          "output_type": "execute_result",
          "data": {
            "text/plain": [
              "{'bootstrap': True,\n",
              " 'ccp_alpha': 0.0,\n",
              " 'class_weight': None,\n",
              " 'criterion': 'gini',\n",
              " 'max_depth': None,\n",
              " 'max_features': 'sqrt',\n",
              " 'max_leaf_nodes': None,\n",
              " 'max_samples': None,\n",
              " 'min_impurity_decrease': 0.0,\n",
              " 'min_samples_leaf': 1,\n",
              " 'min_samples_split': 2,\n",
              " 'min_weight_fraction_leaf': 0.0,\n",
              " 'n_estimators': 100,\n",
              " 'n_jobs': None,\n",
              " 'oob_score': False,\n",
              " 'random_state': 42,\n",
              " 'verbose': 0,\n",
              " 'warm_start': False}"
            ]
          },
          "metadata": {},
          "execution_count": 97
        }
      ]
    },
    {
      "cell_type": "code",
      "source": [
        "print(classification_report(y_test,y_pred))"
      ],
      "metadata": {
        "colab": {
          "base_uri": "https://localhost:8080/"
        },
        "id": "7PO1Rp7YmPvE",
        "outputId": "8dcf5e2c-94eb-4db8-e03b-beaaaad0b42d"
      },
      "execution_count": null,
      "outputs": [
        {
          "output_type": "stream",
          "name": "stdout",
          "text": [
            "              precision    recall  f1-score   support\n",
            "\n",
            "           0       0.61      0.64      0.63      1002\n",
            "           1       0.68      0.70      0.69       988\n",
            "           2       0.64      0.59      0.61      1010\n",
            "\n",
            "    accuracy                           0.64      3000\n",
            "   macro avg       0.64      0.64      0.64      3000\n",
            "weighted avg       0.64      0.64      0.64      3000\n",
            "\n"
          ]
        }
      ]
    },
    {
      "cell_type": "code",
      "source": [
        "import numpy as np\n",
        "from sklearn.model_selection import RandomizedSearchCV\n",
        "from sklearn.model_selection import cross_val_score\n",
        "\n",
        "clf = RandomForestClassifier(random_state=42)                   # 0.64\n",
        "\n",
        "random_search = {\n",
        "                  'criterion': ['entropy', 'gini'],\n",
        "                  'max_depth': [10, 20, None],\n",
        "                  'max_features': ['sqrt', 'log2'],\n",
        "                  'n_estimators': [50, 100, 200]\n",
        "                 }\n",
        "\n",
        "\n",
        "\n",
        "random_search_obj = RandomizedSearchCV(estimator=clf,\n",
        "                           param_distributions=random_search,\n",
        "                           n_iter=10, # total number of models it will try out by random selections\n",
        "                           scoring='f1_macro',\n",
        "                           cv=3, verbose=1, random_state=42, n_jobs=-1)\n",
        "\n",
        "random_search_obj.fit(X_train, y_train)\n",
        "\n",
        "best_model = random_search_obj.best_estimator_\n",
        "\n",
        "predictionforest = best_model.predict(X_test)\n",
        "print(classification_report(y_test,predictionforest))\n",
        "\n",
        "best_model.get_params()"
      ],
      "metadata": {
        "colab": {
          "base_uri": "https://localhost:8080/"
        },
        "id": "K0VnSWYEmu4i",
        "outputId": "0ee2d4b4-2de0-4ebf-f968-0a49b117e046"
      },
      "execution_count": null,
      "outputs": [
        {
          "output_type": "stream",
          "name": "stdout",
          "text": [
            "Fitting 3 folds for each of 10 candidates, totalling 30 fits\n"
          ]
        },
        {
          "output_type": "stream",
          "name": "stderr",
          "text": [
            "/usr/local/lib/python3.10/dist-packages/sklearn/model_selection/_search.py:909: DataConversionWarning: A column-vector y was passed when a 1d array was expected. Please change the shape of y to (n_samples,), for example using ravel().\n",
            "  self.best_estimator_.fit(X, y, **fit_params)\n"
          ]
        },
        {
          "output_type": "stream",
          "name": "stdout",
          "text": [
            "              precision    recall  f1-score   support\n",
            "\n",
            "           0       0.63      0.65      0.64      1002\n",
            "           1       0.69      0.71      0.70       988\n",
            "           2       0.66      0.62      0.64      1010\n",
            "\n",
            "    accuracy                           0.66      3000\n",
            "   macro avg       0.66      0.66      0.66      3000\n",
            "weighted avg       0.66      0.66      0.66      3000\n",
            "\n"
          ]
        },
        {
          "output_type": "execute_result",
          "data": {
            "text/plain": [
              "{'bootstrap': True,\n",
              " 'ccp_alpha': 0.0,\n",
              " 'class_weight': None,\n",
              " 'criterion': 'gini',\n",
              " 'max_depth': None,\n",
              " 'max_features': 'log2',\n",
              " 'max_leaf_nodes': None,\n",
              " 'max_samples': None,\n",
              " 'min_impurity_decrease': 0.0,\n",
              " 'min_samples_leaf': 1,\n",
              " 'min_samples_split': 2,\n",
              " 'min_weight_fraction_leaf': 0.0,\n",
              " 'n_estimators': 200,\n",
              " 'n_jobs': None,\n",
              " 'oob_score': False,\n",
              " 'random_state': 42,\n",
              " 'verbose': 0,\n",
              " 'warm_start': False}"
            ]
          },
          "metadata": {},
          "execution_count": 99
        }
      ]
    },
    {
      "cell_type": "code",
      "source": [
        "from sklearn.metrics import f1_score\n",
        "\n",
        "f1 = f1_score(y_test, predictionforest, average='macro')\n",
        "f1"
      ],
      "metadata": {
        "id": "YBHKi4-iF6gW",
        "colab": {
          "base_uri": "https://localhost:8080/"
        },
        "outputId": "0035eb1f-8be7-4d2a-b1c5-75a934d009ab"
      },
      "execution_count": null,
      "outputs": [
        {
          "output_type": "execute_result",
          "data": {
            "text/plain": [
              "0.6590238431253711"
            ]
          },
          "metadata": {},
          "execution_count": 100
        }
      ]
    },
    {
      "cell_type": "code",
      "source": [
        "best_model.get_params()"
      ],
      "metadata": {
        "id": "ZrAUKikGvEKA",
        "colab": {
          "base_uri": "https://localhost:8080/"
        },
        "outputId": "f54c7de1-6355-4ab3-8839-a8e6865df596"
      },
      "execution_count": null,
      "outputs": [
        {
          "output_type": "execute_result",
          "data": {
            "text/plain": [
              "{'bootstrap': True,\n",
              " 'ccp_alpha': 0.0,\n",
              " 'class_weight': None,\n",
              " 'criterion': 'gini',\n",
              " 'max_depth': None,\n",
              " 'max_features': 'log2',\n",
              " 'max_leaf_nodes': None,\n",
              " 'max_samples': None,\n",
              " 'min_impurity_decrease': 0.0,\n",
              " 'min_samples_leaf': 1,\n",
              " 'min_samples_split': 2,\n",
              " 'min_weight_fraction_leaf': 0.0,\n",
              " 'n_estimators': 200,\n",
              " 'n_jobs': None,\n",
              " 'oob_score': False,\n",
              " 'random_state': 42,\n",
              " 'verbose': 0,\n",
              " 'warm_start': False}"
            ]
          },
          "metadata": {},
          "execution_count": 101
        }
      ]
    },
    {
      "cell_type": "code",
      "source": [
        "'''clf2 = RandomForestClassifier(random_state=42)\n",
        "\n",
        "random_search2 = {\n",
        "                  'ccp_alpha' : [0],\n",
        "                  'criterion': ['gini'],                     # 'entropy',\n",
        "                  'max_depth': [20],                         # 20\n",
        "                  'max_features': [\"sqrt\"],                  # 'log2'\n",
        "                  'n_estimators': [150, 155, 160, 165, 170],           #around 140\n",
        "                  'max_samples': [None],\n",
        "                  'min_samples_leaf': [3,7,10],\n",
        "\n",
        "                 }\n",
        "\n",
        "               # 2 x 3 x 2 x 3 = 36 => randomly selects 10 combinations (models) from 36 possible model hyperparameter configs\n",
        "               # 1. RandomForestClassifier(criterion='gini', max_depth=10, max_features='sqrt', n_estimators=50)\n",
        "               # 2. RandomForestClassifier(criterion='entropy', max_depth=20, max_features='log2', n_estimators=200)\n",
        "               # ... total of n_iter models\n",
        "\n",
        "\n",
        "\n",
        "\n",
        "random_search_obj2 = RandomizedSearchCV(estimator=clf,\n",
        "                           param_distributions=random_search2,\n",
        "                           n_iter=20, # total number of models it will try out by random selections\n",
        "                           scoring='f1_macro',\n",
        "                           cv=3, verbose=1, random_state=42, n_jobs=-1)\n",
        "\n",
        "random_search_obj2.fit(X_train, y_train)\n",
        "\n",
        "best_model2 = random_search_obj2.best_estimator_\n",
        "\n",
        "predictionforest2 = best_model2.predict(X_test)\n",
        "print(classification_report(y_test,predictionforest2))\n",
        "\n",
        "best_model2.get_params()\n",
        "\n",
        "\n",
        "#nestim = 100m maxf = sqrt, mdepth = 20'''"
      ],
      "metadata": {
        "id": "s79rYLacnGmh",
        "colab": {
          "base_uri": "https://localhost:8080/",
          "height": 143
        },
        "outputId": "ff5cdc54-9556-4168-9325-6b85267d6ce8"
      },
      "execution_count": null,
      "outputs": [
        {
          "output_type": "execute_result",
          "data": {
            "text/plain": [
              "'clf2 = RandomForestClassifier(random_state=42)\\n\\nrandom_search2 = {\\n                  \\'ccp_alpha\\' : [0], \\n                  \\'criterion\\': [\\'gini\\'],                     # \\'entropy\\', \\n                  \\'max_depth\\': [20],                         # 20\\n                  \\'max_features\\': [\"sqrt\"],                  # \\'log2\\'\\n                  \\'n_estimators\\': [150, 155, 160, 165, 170],           #around 140\\n                  \\'max_samples\\': [None],\\n                  \\'min_samples_leaf\\': [3,7,10],\\n                 \\n                 }\\n\\n               # 2 x 3 x 2 x 3 = 36 => randomly selects 10 combinations (models) from 36 possible model hyperparameter configs\\n               # 1. RandomForestClassifier(criterion=\\'gini\\', max_depth=10, max_features=\\'sqrt\\', n_estimators=50)\\n               # 2. RandomForestClassifier(criterion=\\'entropy\\', max_depth=20, max_features=\\'log2\\', n_estimators=200)\\n               # ... total of n_iter models\\n\\n\\n\\n\\nrandom_search_obj2 = RandomizedSearchCV(estimator=clf,\\n                           param_distributions=random_search2,\\n                           n_iter=20, # total number of models it will try out by random selections\\n                           scoring=\\'f1_macro\\',\\n                           cv=3, verbose=1, random_state=42, n_jobs=-1)\\n\\nrandom_search_obj2.fit(X_train, y_train)\\n\\nbest_model2 = random_search_obj2.best_estimator_\\n\\npredictionforest2 = best_model2.predict(X_test)\\nprint(classification_report(y_test,predictionforest2))\\n\\nbest_model2.get_params()\\n\\n\\n#nestim = 100m maxf = sqrt, mdepth = 20'"
            ],
            "application/vnd.google.colaboratory.intrinsic+json": {
              "type": "string"
            }
          },
          "metadata": {},
          "execution_count": 102
        }
      ]
    },
    {
      "cell_type": "code",
      "source": [
        "'''clf3 = RandomForestClassifier(random_state=42)\n",
        "\n",
        "random_search3 = {\n",
        "                  'criterion': ['entropy', 'gini'],\n",
        "                  'max_depth': [10, 20, None],\n",
        "                  'max_features': ['sqrt', 'log2'],\n",
        "                  'n_estimators': [50, 100, 200]\n",
        "                 }\n",
        "               # 2 x 3 x 2 x 3 = 36 => randomly selects 10 combinations (models) from 36 possible model hyperparameter configs\n",
        "               # 1. RandomForestClassifier(criterion='gini', max_depth=10, max_features='sqrt', n_estimators=50)\n",
        "               # 2. RandomForestClassifier(criterion='entropy', max_depth=20, max_features='log2', n_estimators=200)\n",
        "               # ... total of n_iter models\n",
        "\n",
        "\n",
        "\n",
        "\n",
        "random_search_obj3 = RandomizedSearchCV(estimator=clf,\n",
        "                           param_distributions=random_search3,\n",
        "                           n_iter=20, # total number of models it will try out by random selections\n",
        "                           scoring='f1_macro',\n",
        "                           cv=3, verbose=1, random_state=42, n_jobs=-1)\n",
        "\n",
        "random_search_obj3.fit(X_train, y_train)\n",
        "\n",
        "best_model3 = random_search_obj3.best_estimator_\n",
        "\n",
        "predictionforest3 = best_model3.predict(X_test)\n",
        "print(classification_report(y_test,predictionforest3))\n",
        "\n",
        "best_model3.get_params()'''"
      ],
      "metadata": {
        "id": "nmKaxxAFybDM",
        "colab": {
          "base_uri": "https://localhost:8080/",
          "height": 143
        },
        "outputId": "f47ec742-bc7d-4a64-abc4-e8201f4f3cad"
      },
      "execution_count": null,
      "outputs": [
        {
          "output_type": "execute_result",
          "data": {
            "text/plain": [
              "\"clf3 = RandomForestClassifier(random_state=42)\\n\\nrandom_search3 = {\\n                  'criterion': ['entropy', 'gini'],\\n                  'max_depth': [10, 20, None],\\n                  'max_features': ['sqrt', 'log2'],\\n                  'n_estimators': [50, 100, 200]\\n                 }\\n               # 2 x 3 x 2 x 3 = 36 => randomly selects 10 combinations (models) from 36 possible model hyperparameter configs\\n               # 1. RandomForestClassifier(criterion='gini', max_depth=10, max_features='sqrt', n_estimators=50)\\n               # 2. RandomForestClassifier(criterion='entropy', max_depth=20, max_features='log2', n_estimators=200)\\n               # ... total of n_iter models\\n\\n\\n\\n\\nrandom_search_obj3 = RandomizedSearchCV(estimator=clf,\\n                           param_distributions=random_search3,\\n                           n_iter=20, # total number of models it will try out by random selections\\n                           scoring='f1_macro',\\n                           cv=3, verbose=1, random_state=42, n_jobs=-1)\\n\\nrandom_search_obj3.fit(X_train, y_train)\\n\\nbest_model3 = random_search_obj3.best_estimator_\\n\\npredictionforest3 = best_model3.predict(X_test)\\nprint(classification_report(y_test,predictionforest3))\\n\\nbest_model3.get_params()\""
            ],
            "application/vnd.google.colaboratory.intrinsic+json": {
              "type": "string"
            }
          },
          "metadata": {},
          "execution_count": 103
        }
      ]
    },
    {
      "cell_type": "code",
      "source": [
        "'''clf4 = RandomForestClassifier(random_state=42)\n",
        "\n",
        "random_search4 = {\n",
        "                  'ccp_alpha' : [0],\n",
        "                  'criterion': ['gini'],    # 'entropy',\n",
        "                  'max_depth': [23,25,27, None],      # 10\n",
        "                  'max_features': [4],           # 'log2'\n",
        "                  'n_estimators': [110, 120, 130],\n",
        "                  'max_samples': [1500, 2000, 2500]\n",
        "                 }\n",
        "\n",
        "               # 2 x 3 x 2 x 3 = 36 => randomly selects 10 combinations (models) from 36 possible model hyperparameter configs\n",
        "               # 1. RandomForestClassifier(criterion='gini', max_depth=10, max_features='sqrt', n_estimators=50)\n",
        "               # 2. RandomForestClassifier(criterion='entropy', max_depth=20, max_features='log2', n_estimators=200)\n",
        "               # ... total of n_iter models\n",
        "\n",
        "\n",
        "\n",
        "\n",
        "random_search_obj4 = RandomizedSearchCV(estimator=clf,\n",
        "                           param_distributions=random_search4,\n",
        "                           n_iter=20, # total number of models it will try out by random selections\n",
        "                           scoring='f1_macro',\n",
        "                           cv=3, verbose=1, random_state=42, n_jobs=-1)\n",
        "\n",
        "random_search_obj4.fit(X_train, y_train)\n",
        "\n",
        "best_model4 = random_search_obj4.best_estimator_\n",
        "\n",
        "predictionforest4 = best_model4.predict(X_test)\n",
        "print(classification_report(y_test,predictionforest4))\n",
        "\n",
        "best_model4.get_params()'''"
      ],
      "metadata": {
        "id": "zeQ3Tt7VnHG_",
        "colab": {
          "base_uri": "https://localhost:8080/",
          "height": 143
        },
        "outputId": "e02f8104-4fab-42be-abb9-0fb14e953fb6"
      },
      "execution_count": null,
      "outputs": [
        {
          "output_type": "execute_result",
          "data": {
            "text/plain": [
              "\"clf4 = RandomForestClassifier(random_state=42)\\n\\nrandom_search4 = {\\n                  'ccp_alpha' : [0], \\n                  'criterion': ['gini'],    # 'entropy', \\n                  'max_depth': [23,25,27, None],      # 10\\n                  'max_features': [4],           # 'log2'\\n                  'n_estimators': [110, 120, 130],\\n                  'max_samples': [1500, 2000, 2500]\\n                 }\\n\\n               # 2 x 3 x 2 x 3 = 36 => randomly selects 10 combinations (models) from 36 possible model hyperparameter configs\\n               # 1. RandomForestClassifier(criterion='gini', max_depth=10, max_features='sqrt', n_estimators=50)\\n               # 2. RandomForestClassifier(criterion='entropy', max_depth=20, max_features='log2', n_estimators=200)\\n               # ... total of n_iter models\\n\\n\\n\\n\\nrandom_search_obj4 = RandomizedSearchCV(estimator=clf,\\n                           param_distributions=random_search4,\\n                           n_iter=20, # total number of models it will try out by random selections\\n                           scoring='f1_macro',\\n                           cv=3, verbose=1, random_state=42, n_jobs=-1)\\n\\nrandom_search_obj4.fit(X_train, y_train)\\n\\nbest_model4 = random_search_obj4.best_estimator_\\n\\npredictionforest4 = best_model4.predict(X_test)\\nprint(classification_report(y_test,predictionforest4))\\n\\nbest_model4.get_params()\""
            ],
            "application/vnd.google.colaboratory.intrinsic+json": {
              "type": "string"
            }
          },
          "metadata": {},
          "execution_count": 104
        }
      ]
    },
    {
      "cell_type": "code",
      "source": [
        "X_final2 = X_final[[\"Id\", \"98\",\"11\",\"50\",\"24\",\"61\",\"20\",\"72\",\"62\",\"87\",\"60\",\"86\",\"74\",\"42\",\"37\",\"2\",\"6\",\"63\",\"53\", \"91\"]]  # 0.64\n",
        "# X2 = X[[\"Id\", \"98\",\"11\",\"50\",\"24\",\"61\",\"20\",\"72\",\"62\",\"87\",\"60\",\"86\",\"42\",\"37\",\"6\"]] #,\"34\",\"2\",\"74\"]] # 0.64\n",
        "# X2 = X[[\"Id\", \"98\",\"11\",\"50\",\"24\",\"61\",\"20\",\"72\",\"62\",\"87\",\"60\"]] # ,\"86\",\"42\",\"37\",\"6\",\"34\",\"2\",\"74\"]]\n",
        "#X2 = X[[\"Id\", \"98\",\"11\",\"50\",\"24\",\"61\",\"20\",\"72\",\"62\",\"87\",\"60\",\"86\",\"42\",\"37\",\"6\",\"34\",\"2\",\"74\"]]\n",
        "#X2 = X[[\"Id\", \"98\",\"11\",\"50\",\"24\",\"61\",\"20\",\"72\",\"62\",\"87\",\"60\",\"86\",\"42\",\"37\",\"6\",\"34\",\"2\",\"74\"]]\n",
        "\n",
        "X_final = X_final2 #[:1000]\n",
        "X_final.shape, X_final.head()\n"
      ],
      "metadata": {
        "id": "3H7u9k2J9fwK",
        "colab": {
          "base_uri": "https://localhost:8080/"
        },
        "outputId": "ae9e106f-cde2-44fa-f7a4-0a7f401ea212"
      },
      "execution_count": null,
      "outputs": [
        {
          "output_type": "execute_result",
          "data": {
            "text/plain": [
              "((20000, 20),\n",
              "    Id        98        11           50        24         61         20  \\\n",
              " 0   0  1.627644 -5.475461     0.278009 -0.885763   2.193392   1.396366   \n",
              " 1   1 -5.143795  1.160366     2.754611  1.870688   0.172501 -10.584147   \n",
              " 2   2 -1.672424 -1.802028    33.041780 -3.256410   0.547314  -7.137388   \n",
              " 3   3 -0.704601 -6.004230  1484.131591 -1.801898  23.632765   1.907041   \n",
              " 4   4 -0.988028  2.263138   108.464776  0.366459   5.223058  -4.322174   \n",
              " \n",
              "          72         62         87         60        86           74        42  \\\n",
              " 0 -0.779777  71.459550   5.907949   0.008329  1.157463     0.118797 -1.329417   \n",
              " 1  0.767247   0.002066  18.881935  48.102792  0.783257  1484.131591  3.385397   \n",
              " 2 -2.056834   2.417599   0.976244   0.491529  1.117406    13.434883 -0.222840   \n",
              " 3 -3.601637  35.067343   0.083456  10.613394 -1.239871     4.351740 -1.925966   \n",
              " 4  3.782404   0.122652   0.690354   0.112896  4.020908     9.081033 -2.211748   \n",
              " \n",
              "          37          2          6          63         53        91  \n",
              " 0  5.515789   9.531945 -23.881055  303.998918   0.550952 -0.127226  \n",
              " 1 -1.109945  13.064256 -47.774112   12.655579   0.614540  0.297756  \n",
              " 2 -4.953978  10.370677  65.747722  191.214709   6.790447  0.194697  \n",
              " 3  1.836020   0.379516 -11.036037  825.842853  45.208456  2.435104  \n",
              " 4 -1.147118   0.535448   8.185199   39.186811   0.469137 -1.842170  )"
            ]
          },
          "metadata": {},
          "execution_count": 105
        }
      ]
    },
    {
      "cell_type": "code",
      "source": [
        "X_final.head()"
      ],
      "metadata": {
        "id": "loiJoQEg-LXW",
        "colab": {
          "base_uri": "https://localhost:8080/",
          "height": 308
        },
        "outputId": "ebc2163a-4c65-42c1-d661-51d244632353"
      },
      "execution_count": null,
      "outputs": [
        {
          "output_type": "execute_result",
          "data": {
            "text/plain": [
              "   Id        98        11           50        24         61         20  \\\n",
              "0   0  1.627644 -5.475461     0.278009 -0.885763   2.193392   1.396366   \n",
              "1   1 -5.143795  1.160366     2.754611  1.870688   0.172501 -10.584147   \n",
              "2   2 -1.672424 -1.802028    33.041780 -3.256410   0.547314  -7.137388   \n",
              "3   3 -0.704601 -6.004230  1484.131591 -1.801898  23.632765   1.907041   \n",
              "4   4 -0.988028  2.263138   108.464776  0.366459   5.223058  -4.322174   \n",
              "\n",
              "         72         62         87         60        86           74        42  \\\n",
              "0 -0.779777  71.459550   5.907949   0.008329  1.157463     0.118797 -1.329417   \n",
              "1  0.767247   0.002066  18.881935  48.102792  0.783257  1484.131591  3.385397   \n",
              "2 -2.056834   2.417599   0.976244   0.491529  1.117406    13.434883 -0.222840   \n",
              "3 -3.601637  35.067343   0.083456  10.613394 -1.239871     4.351740 -1.925966   \n",
              "4  3.782404   0.122652   0.690354   0.112896  4.020908     9.081033 -2.211748   \n",
              "\n",
              "         37          2          6          63         53        91  \n",
              "0  5.515789   9.531945 -23.881055  303.998918   0.550952 -0.127226  \n",
              "1 -1.109945  13.064256 -47.774112   12.655579   0.614540  0.297756  \n",
              "2 -4.953978  10.370677  65.747722  191.214709   6.790447  0.194697  \n",
              "3  1.836020   0.379516 -11.036037  825.842853  45.208456  2.435104  \n",
              "4 -1.147118   0.535448   8.185199   39.186811   0.469137 -1.842170  "
            ],
            "text/html": [
              "\n",
              "  <div id=\"df-1c67adbf-63ce-49bd-bdb5-a40bda02001b\">\n",
              "    <div class=\"colab-df-container\">\n",
              "      <div>\n",
              "<style scoped>\n",
              "    .dataframe tbody tr th:only-of-type {\n",
              "        vertical-align: middle;\n",
              "    }\n",
              "\n",
              "    .dataframe tbody tr th {\n",
              "        vertical-align: top;\n",
              "    }\n",
              "\n",
              "    .dataframe thead th {\n",
              "        text-align: right;\n",
              "    }\n",
              "</style>\n",
              "<table border=\"1\" class=\"dataframe\">\n",
              "  <thead>\n",
              "    <tr style=\"text-align: right;\">\n",
              "      <th></th>\n",
              "      <th>Id</th>\n",
              "      <th>98</th>\n",
              "      <th>11</th>\n",
              "      <th>50</th>\n",
              "      <th>24</th>\n",
              "      <th>61</th>\n",
              "      <th>20</th>\n",
              "      <th>72</th>\n",
              "      <th>62</th>\n",
              "      <th>87</th>\n",
              "      <th>60</th>\n",
              "      <th>86</th>\n",
              "      <th>74</th>\n",
              "      <th>42</th>\n",
              "      <th>37</th>\n",
              "      <th>2</th>\n",
              "      <th>6</th>\n",
              "      <th>63</th>\n",
              "      <th>53</th>\n",
              "      <th>91</th>\n",
              "    </tr>\n",
              "  </thead>\n",
              "  <tbody>\n",
              "    <tr>\n",
              "      <th>0</th>\n",
              "      <td>0</td>\n",
              "      <td>1.627644</td>\n",
              "      <td>-5.475461</td>\n",
              "      <td>0.278009</td>\n",
              "      <td>-0.885763</td>\n",
              "      <td>2.193392</td>\n",
              "      <td>1.396366</td>\n",
              "      <td>-0.779777</td>\n",
              "      <td>71.459550</td>\n",
              "      <td>5.907949</td>\n",
              "      <td>0.008329</td>\n",
              "      <td>1.157463</td>\n",
              "      <td>0.118797</td>\n",
              "      <td>-1.329417</td>\n",
              "      <td>5.515789</td>\n",
              "      <td>9.531945</td>\n",
              "      <td>-23.881055</td>\n",
              "      <td>303.998918</td>\n",
              "      <td>0.550952</td>\n",
              "      <td>-0.127226</td>\n",
              "    </tr>\n",
              "    <tr>\n",
              "      <th>1</th>\n",
              "      <td>1</td>\n",
              "      <td>-5.143795</td>\n",
              "      <td>1.160366</td>\n",
              "      <td>2.754611</td>\n",
              "      <td>1.870688</td>\n",
              "      <td>0.172501</td>\n",
              "      <td>-10.584147</td>\n",
              "      <td>0.767247</td>\n",
              "      <td>0.002066</td>\n",
              "      <td>18.881935</td>\n",
              "      <td>48.102792</td>\n",
              "      <td>0.783257</td>\n",
              "      <td>1484.131591</td>\n",
              "      <td>3.385397</td>\n",
              "      <td>-1.109945</td>\n",
              "      <td>13.064256</td>\n",
              "      <td>-47.774112</td>\n",
              "      <td>12.655579</td>\n",
              "      <td>0.614540</td>\n",
              "      <td>0.297756</td>\n",
              "    </tr>\n",
              "    <tr>\n",
              "      <th>2</th>\n",
              "      <td>2</td>\n",
              "      <td>-1.672424</td>\n",
              "      <td>-1.802028</td>\n",
              "      <td>33.041780</td>\n",
              "      <td>-3.256410</td>\n",
              "      <td>0.547314</td>\n",
              "      <td>-7.137388</td>\n",
              "      <td>-2.056834</td>\n",
              "      <td>2.417599</td>\n",
              "      <td>0.976244</td>\n",
              "      <td>0.491529</td>\n",
              "      <td>1.117406</td>\n",
              "      <td>13.434883</td>\n",
              "      <td>-0.222840</td>\n",
              "      <td>-4.953978</td>\n",
              "      <td>10.370677</td>\n",
              "      <td>65.747722</td>\n",
              "      <td>191.214709</td>\n",
              "      <td>6.790447</td>\n",
              "      <td>0.194697</td>\n",
              "    </tr>\n",
              "    <tr>\n",
              "      <th>3</th>\n",
              "      <td>3</td>\n",
              "      <td>-0.704601</td>\n",
              "      <td>-6.004230</td>\n",
              "      <td>1484.131591</td>\n",
              "      <td>-1.801898</td>\n",
              "      <td>23.632765</td>\n",
              "      <td>1.907041</td>\n",
              "      <td>-3.601637</td>\n",
              "      <td>35.067343</td>\n",
              "      <td>0.083456</td>\n",
              "      <td>10.613394</td>\n",
              "      <td>-1.239871</td>\n",
              "      <td>4.351740</td>\n",
              "      <td>-1.925966</td>\n",
              "      <td>1.836020</td>\n",
              "      <td>0.379516</td>\n",
              "      <td>-11.036037</td>\n",
              "      <td>825.842853</td>\n",
              "      <td>45.208456</td>\n",
              "      <td>2.435104</td>\n",
              "    </tr>\n",
              "    <tr>\n",
              "      <th>4</th>\n",
              "      <td>4</td>\n",
              "      <td>-0.988028</td>\n",
              "      <td>2.263138</td>\n",
              "      <td>108.464776</td>\n",
              "      <td>0.366459</td>\n",
              "      <td>5.223058</td>\n",
              "      <td>-4.322174</td>\n",
              "      <td>3.782404</td>\n",
              "      <td>0.122652</td>\n",
              "      <td>0.690354</td>\n",
              "      <td>0.112896</td>\n",
              "      <td>4.020908</td>\n",
              "      <td>9.081033</td>\n",
              "      <td>-2.211748</td>\n",
              "      <td>-1.147118</td>\n",
              "      <td>0.535448</td>\n",
              "      <td>8.185199</td>\n",
              "      <td>39.186811</td>\n",
              "      <td>0.469137</td>\n",
              "      <td>-1.842170</td>\n",
              "    </tr>\n",
              "  </tbody>\n",
              "</table>\n",
              "</div>\n",
              "      <button class=\"colab-df-convert\" onclick=\"convertToInteractive('df-1c67adbf-63ce-49bd-bdb5-a40bda02001b')\"\n",
              "              title=\"Convert this dataframe to an interactive table.\"\n",
              "              style=\"display:none;\">\n",
              "        \n",
              "  <svg xmlns=\"http://www.w3.org/2000/svg\" height=\"24px\"viewBox=\"0 0 24 24\"\n",
              "       width=\"24px\">\n",
              "    <path d=\"M0 0h24v24H0V0z\" fill=\"none\"/>\n",
              "    <path d=\"M18.56 5.44l.94 2.06.94-2.06 2.06-.94-2.06-.94-.94-2.06-.94 2.06-2.06.94zm-11 1L8.5 8.5l.94-2.06 2.06-.94-2.06-.94L8.5 2.5l-.94 2.06-2.06.94zm10 10l.94 2.06.94-2.06 2.06-.94-2.06-.94-.94-2.06-.94 2.06-2.06.94z\"/><path d=\"M17.41 7.96l-1.37-1.37c-.4-.4-.92-.59-1.43-.59-.52 0-1.04.2-1.43.59L10.3 9.45l-7.72 7.72c-.78.78-.78 2.05 0 2.83L4 21.41c.39.39.9.59 1.41.59.51 0 1.02-.2 1.41-.59l7.78-7.78 2.81-2.81c.8-.78.8-2.07 0-2.86zM5.41 20L4 18.59l7.72-7.72 1.47 1.35L5.41 20z\"/>\n",
              "  </svg>\n",
              "      </button>\n",
              "      \n",
              "  <style>\n",
              "    .colab-df-container {\n",
              "      display:flex;\n",
              "      flex-wrap:wrap;\n",
              "      gap: 12px;\n",
              "    }\n",
              "\n",
              "    .colab-df-convert {\n",
              "      background-color: #E8F0FE;\n",
              "      border: none;\n",
              "      border-radius: 50%;\n",
              "      cursor: pointer;\n",
              "      display: none;\n",
              "      fill: #1967D2;\n",
              "      height: 32px;\n",
              "      padding: 0 0 0 0;\n",
              "      width: 32px;\n",
              "    }\n",
              "\n",
              "    .colab-df-convert:hover {\n",
              "      background-color: #E2EBFA;\n",
              "      box-shadow: 0px 1px 2px rgba(60, 64, 67, 0.3), 0px 1px 3px 1px rgba(60, 64, 67, 0.15);\n",
              "      fill: #174EA6;\n",
              "    }\n",
              "\n",
              "    [theme=dark] .colab-df-convert {\n",
              "      background-color: #3B4455;\n",
              "      fill: #D2E3FC;\n",
              "    }\n",
              "\n",
              "    [theme=dark] .colab-df-convert:hover {\n",
              "      background-color: #434B5C;\n",
              "      box-shadow: 0px 1px 3px 1px rgba(0, 0, 0, 0.15);\n",
              "      filter: drop-shadow(0px 1px 2px rgba(0, 0, 0, 0.3));\n",
              "      fill: #FFFFFF;\n",
              "    }\n",
              "  </style>\n",
              "\n",
              "      <script>\n",
              "        const buttonEl =\n",
              "          document.querySelector('#df-1c67adbf-63ce-49bd-bdb5-a40bda02001b button.colab-df-convert');\n",
              "        buttonEl.style.display =\n",
              "          google.colab.kernel.accessAllowed ? 'block' : 'none';\n",
              "\n",
              "        async function convertToInteractive(key) {\n",
              "          const element = document.querySelector('#df-1c67adbf-63ce-49bd-bdb5-a40bda02001b');\n",
              "          const dataTable =\n",
              "            await google.colab.kernel.invokeFunction('convertToInteractive',\n",
              "                                                     [key], {});\n",
              "          if (!dataTable) return;\n",
              "\n",
              "          const docLinkHtml = 'Like what you see? Visit the ' +\n",
              "            '<a target=\"_blank\" href=https://colab.research.google.com/notebooks/data_table.ipynb>data table notebook</a>'\n",
              "            + ' to learn more about interactive tables.';\n",
              "          element.innerHTML = '';\n",
              "          dataTable['output_type'] = 'display_data';\n",
              "          await google.colab.output.renderOutput(dataTable, element);\n",
              "          const docLink = document.createElement('div');\n",
              "          docLink.innerHTML = docLinkHtml;\n",
              "          element.appendChild(docLink);\n",
              "        }\n",
              "      </script>\n",
              "    </div>\n",
              "  </div>\n",
              "  "
            ]
          },
          "metadata": {},
          "execution_count": 106
        }
      ]
    },
    {
      "cell_type": "code",
      "source": [
        "y_final = best_model.predict(X_final)"
      ],
      "metadata": {
        "id": "BGs3xQKG927I",
        "colab": {
          "base_uri": "https://localhost:8080/",
          "height": 485
        },
        "outputId": "abe55942-d425-4f65-81aa-9a59fc857ace"
      },
      "execution_count": null,
      "outputs": [
        {
          "output_type": "error",
          "ename": "ValueError",
          "evalue": "ignored",
          "traceback": [
            "\u001b[0;31m---------------------------------------------------------------------------\u001b[0m",
            "\u001b[0;31mValueError\u001b[0m                                Traceback (most recent call last)",
            "\u001b[0;32m<ipython-input-107-7fabfc9a6558>\u001b[0m in \u001b[0;36m<cell line: 1>\u001b[0;34m()\u001b[0m\n\u001b[0;32m----> 1\u001b[0;31m \u001b[0my_final\u001b[0m \u001b[0;34m=\u001b[0m \u001b[0mbest_model\u001b[0m\u001b[0;34m.\u001b[0m\u001b[0mpredict\u001b[0m\u001b[0;34m(\u001b[0m\u001b[0mX_final\u001b[0m\u001b[0;34m)\u001b[0m\u001b[0;34m\u001b[0m\u001b[0;34m\u001b[0m\u001b[0m\n\u001b[0m",
            "\u001b[0;32m/usr/local/lib/python3.10/dist-packages/sklearn/ensemble/_forest.py\u001b[0m in \u001b[0;36mpredict\u001b[0;34m(self, X)\u001b[0m\n\u001b[1;32m    818\u001b[0m             \u001b[0mThe\u001b[0m \u001b[0mpredicted\u001b[0m \u001b[0mclasses\u001b[0m\u001b[0;34m.\u001b[0m\u001b[0;34m\u001b[0m\u001b[0;34m\u001b[0m\u001b[0m\n\u001b[1;32m    819\u001b[0m         \"\"\"\n\u001b[0;32m--> 820\u001b[0;31m         \u001b[0mproba\u001b[0m \u001b[0;34m=\u001b[0m \u001b[0mself\u001b[0m\u001b[0;34m.\u001b[0m\u001b[0mpredict_proba\u001b[0m\u001b[0;34m(\u001b[0m\u001b[0mX\u001b[0m\u001b[0;34m)\u001b[0m\u001b[0;34m\u001b[0m\u001b[0;34m\u001b[0m\u001b[0m\n\u001b[0m\u001b[1;32m    821\u001b[0m \u001b[0;34m\u001b[0m\u001b[0m\n\u001b[1;32m    822\u001b[0m         \u001b[0;32mif\u001b[0m \u001b[0mself\u001b[0m\u001b[0;34m.\u001b[0m\u001b[0mn_outputs_\u001b[0m \u001b[0;34m==\u001b[0m \u001b[0;36m1\u001b[0m\u001b[0;34m:\u001b[0m\u001b[0;34m\u001b[0m\u001b[0;34m\u001b[0m\u001b[0m\n",
            "\u001b[0;32m/usr/local/lib/python3.10/dist-packages/sklearn/ensemble/_forest.py\u001b[0m in \u001b[0;36mpredict_proba\u001b[0;34m(self, X)\u001b[0m\n\u001b[1;32m    860\u001b[0m         \u001b[0mcheck_is_fitted\u001b[0m\u001b[0;34m(\u001b[0m\u001b[0mself\u001b[0m\u001b[0;34m)\u001b[0m\u001b[0;34m\u001b[0m\u001b[0;34m\u001b[0m\u001b[0m\n\u001b[1;32m    861\u001b[0m         \u001b[0;31m# Check data\u001b[0m\u001b[0;34m\u001b[0m\u001b[0;34m\u001b[0m\u001b[0m\n\u001b[0;32m--> 862\u001b[0;31m         \u001b[0mX\u001b[0m \u001b[0;34m=\u001b[0m \u001b[0mself\u001b[0m\u001b[0;34m.\u001b[0m\u001b[0m_validate_X_predict\u001b[0m\u001b[0;34m(\u001b[0m\u001b[0mX\u001b[0m\u001b[0;34m)\u001b[0m\u001b[0;34m\u001b[0m\u001b[0;34m\u001b[0m\u001b[0m\n\u001b[0m\u001b[1;32m    863\u001b[0m \u001b[0;34m\u001b[0m\u001b[0m\n\u001b[1;32m    864\u001b[0m         \u001b[0;31m# Assign chunk of trees to jobs\u001b[0m\u001b[0;34m\u001b[0m\u001b[0;34m\u001b[0m\u001b[0m\n",
            "\u001b[0;32m/usr/local/lib/python3.10/dist-packages/sklearn/ensemble/_forest.py\u001b[0m in \u001b[0;36m_validate_X_predict\u001b[0;34m(self, X)\u001b[0m\n\u001b[1;32m    600\u001b[0m         Validate X whenever one tries to predict, apply, predict_proba.\"\"\"\n\u001b[1;32m    601\u001b[0m         \u001b[0mcheck_is_fitted\u001b[0m\u001b[0;34m(\u001b[0m\u001b[0mself\u001b[0m\u001b[0;34m)\u001b[0m\u001b[0;34m\u001b[0m\u001b[0;34m\u001b[0m\u001b[0m\n\u001b[0;32m--> 602\u001b[0;31m         \u001b[0mX\u001b[0m \u001b[0;34m=\u001b[0m \u001b[0mself\u001b[0m\u001b[0;34m.\u001b[0m\u001b[0m_validate_data\u001b[0m\u001b[0;34m(\u001b[0m\u001b[0mX\u001b[0m\u001b[0;34m,\u001b[0m \u001b[0mdtype\u001b[0m\u001b[0;34m=\u001b[0m\u001b[0mDTYPE\u001b[0m\u001b[0;34m,\u001b[0m \u001b[0maccept_sparse\u001b[0m\u001b[0;34m=\u001b[0m\u001b[0;34m\"csr\"\u001b[0m\u001b[0;34m,\u001b[0m \u001b[0mreset\u001b[0m\u001b[0;34m=\u001b[0m\u001b[0;32mFalse\u001b[0m\u001b[0;34m)\u001b[0m\u001b[0;34m\u001b[0m\u001b[0;34m\u001b[0m\u001b[0m\n\u001b[0m\u001b[1;32m    603\u001b[0m         \u001b[0;32mif\u001b[0m \u001b[0missparse\u001b[0m\u001b[0;34m(\u001b[0m\u001b[0mX\u001b[0m\u001b[0;34m)\u001b[0m \u001b[0;32mand\u001b[0m \u001b[0;34m(\u001b[0m\u001b[0mX\u001b[0m\u001b[0;34m.\u001b[0m\u001b[0mindices\u001b[0m\u001b[0;34m.\u001b[0m\u001b[0mdtype\u001b[0m \u001b[0;34m!=\u001b[0m \u001b[0mnp\u001b[0m\u001b[0;34m.\u001b[0m\u001b[0mintc\u001b[0m \u001b[0;32mor\u001b[0m \u001b[0mX\u001b[0m\u001b[0;34m.\u001b[0m\u001b[0mindptr\u001b[0m\u001b[0;34m.\u001b[0m\u001b[0mdtype\u001b[0m \u001b[0;34m!=\u001b[0m \u001b[0mnp\u001b[0m\u001b[0;34m.\u001b[0m\u001b[0mintc\u001b[0m\u001b[0;34m)\u001b[0m\u001b[0;34m:\u001b[0m\u001b[0;34m\u001b[0m\u001b[0;34m\u001b[0m\u001b[0m\n\u001b[1;32m    604\u001b[0m             \u001b[0;32mraise\u001b[0m \u001b[0mValueError\u001b[0m\u001b[0;34m(\u001b[0m\u001b[0;34m\"No support for np.int64 index based sparse matrices\"\u001b[0m\u001b[0;34m)\u001b[0m\u001b[0;34m\u001b[0m\u001b[0;34m\u001b[0m\u001b[0m\n",
            "\u001b[0;32m/usr/local/lib/python3.10/dist-packages/sklearn/base.py\u001b[0m in \u001b[0;36m_validate_data\u001b[0;34m(self, X, y, reset, validate_separately, **check_params)\u001b[0m\n\u001b[1;32m    546\u001b[0m             \u001b[0mvalidated\u001b[0m\u001b[0;34m.\u001b[0m\u001b[0;34m\u001b[0m\u001b[0;34m\u001b[0m\u001b[0m\n\u001b[1;32m    547\u001b[0m         \"\"\"\n\u001b[0;32m--> 548\u001b[0;31m         \u001b[0mself\u001b[0m\u001b[0;34m.\u001b[0m\u001b[0m_check_feature_names\u001b[0m\u001b[0;34m(\u001b[0m\u001b[0mX\u001b[0m\u001b[0;34m,\u001b[0m \u001b[0mreset\u001b[0m\u001b[0;34m=\u001b[0m\u001b[0mreset\u001b[0m\u001b[0;34m)\u001b[0m\u001b[0;34m\u001b[0m\u001b[0;34m\u001b[0m\u001b[0m\n\u001b[0m\u001b[1;32m    549\u001b[0m \u001b[0;34m\u001b[0m\u001b[0m\n\u001b[1;32m    550\u001b[0m         \u001b[0;32mif\u001b[0m \u001b[0my\u001b[0m \u001b[0;32mis\u001b[0m \u001b[0;32mNone\u001b[0m \u001b[0;32mand\u001b[0m \u001b[0mself\u001b[0m\u001b[0;34m.\u001b[0m\u001b[0m_get_tags\u001b[0m\u001b[0;34m(\u001b[0m\u001b[0;34m)\u001b[0m\u001b[0;34m[\u001b[0m\u001b[0;34m\"requires_y\"\u001b[0m\u001b[0;34m]\u001b[0m\u001b[0;34m:\u001b[0m\u001b[0;34m\u001b[0m\u001b[0;34m\u001b[0m\u001b[0m\n",
            "\u001b[0;32m/usr/local/lib/python3.10/dist-packages/sklearn/base.py\u001b[0m in \u001b[0;36m_check_feature_names\u001b[0;34m(self, X, reset)\u001b[0m\n\u001b[1;32m    479\u001b[0m                 )\n\u001b[1;32m    480\u001b[0m \u001b[0;34m\u001b[0m\u001b[0m\n\u001b[0;32m--> 481\u001b[0;31m             \u001b[0;32mraise\u001b[0m \u001b[0mValueError\u001b[0m\u001b[0;34m(\u001b[0m\u001b[0mmessage\u001b[0m\u001b[0;34m)\u001b[0m\u001b[0;34m\u001b[0m\u001b[0;34m\u001b[0m\u001b[0m\n\u001b[0m\u001b[1;32m    482\u001b[0m \u001b[0;34m\u001b[0m\u001b[0m\n\u001b[1;32m    483\u001b[0m     def _validate_data(\n",
            "\u001b[0;31mValueError\u001b[0m: The feature names should match those that were passed during fit.\nFeature names unseen at fit time:\n- 53\n- 63\n- 91\nFeature names seen at fit time, yet now missing:\n- 34\n"
          ]
        }
      ]
    },
    {
      "cell_type": "code",
      "source": [
        "X_final.columns"
      ],
      "metadata": {
        "id": "WyBI72b--_Ee"
      },
      "execution_count": null,
      "outputs": []
    },
    {
      "cell_type": "code",
      "source": [
        "X_train.columns"
      ],
      "metadata": {
        "id": "JBYY1AHk_DWI"
      },
      "execution_count": null,
      "outputs": []
    },
    {
      "cell_type": "code",
      "source": [
        "IDs = X_final[\"Id\"]\n",
        "\n",
        "ydf = pd.DataFrame(IDs)\n",
        "ydf[\"Predicted\"] = y_final\n",
        "\n",
        "ydf.head()\n",
        "#ydf.shape"
      ],
      "metadata": {
        "id": "ioyeck8WA2vp"
      },
      "execution_count": null,
      "outputs": []
    },
    {
      "cell_type": "code",
      "source": [
        "from google.colab import files\n",
        "\n",
        "# Save the DataFrame as a CSV file\n",
        "ydf.to_csv('ydf.csv', index=False)\n",
        "\n",
        "# Download the CSV file\n",
        "\n",
        "\n",
        "#files.download('ydf.csv')"
      ],
      "metadata": {
        "id": "buRNonUmBIKs"
      },
      "execution_count": null,
      "outputs": []
    },
    {
      "cell_type": "code",
      "source": [
        "f1"
      ],
      "metadata": {
        "id": "Wif3LT6dHgyZ"
      },
      "execution_count": null,
      "outputs": []
    }
  ]
}